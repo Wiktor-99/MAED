{
 "cells": [
  {
   "cell_type": "code",
   "execution_count": 35,
   "metadata": {},
   "outputs": [],
   "source": [
    "import tweepy\n",
    "import configparser\n",
    "import pickle\n",
    "import fnmatch\n",
    "import os\n",
    "\n",
    "def get_all_access_configs():\n",
    "    config = configparser.RawConfigParser()\n",
    "    config.read('config.ini')\n",
    "    config = config['twitter']\n",
    "\n",
    "    return config.values()\n",
    "\n",
    "_, _, _, _, bearer_token = get_all_access_configs()\n",
    "\n",
    "client = tweepy.Client(bearer_token)"
   ]
  },
  {
   "cell_type": "code",
   "execution_count": 33,
   "metadata": {},
   "outputs": [],
   "source": [
    "users = ['elonmusk', 'joebiden', 'BarackObama', 'twitter', 'theellenshow', 'youtube', 'cristiano', 'justinbieber', 'cnnbrk', 'billgates', 'KimKardashian']\n",
    "\n",
    "def fetch_tweets_from_user(user, client):\n",
    "    id = client.get_user(username=user)\n",
    "    tweet_fields=['author_id', 'created_at', 'public_metrics', 'text', 'source', 'possibly_sensitive', 'lang', 'entities', 'context_annotations']\n",
    "\n",
    "    paginator = tweepy.Paginator(\n",
    "        method = client.get_users_tweets,\n",
    "        id = str(id.data.id),\n",
    "        exclude=['retweets', 'replies'],\n",
    "        tweet_fields=tweet_fields)\n",
    "\n",
    "    return [ tweet.data for tweet in paginator.flatten()]\n",
    "\n",
    "def get_all_tweets(users, client):\n",
    "    return [ fetch_tweets_from_user(user, client) for user in users ]\n",
    "\n",
    "def write_list(list):\n",
    "    file_version = len(fnmatch.filter(os.listdir('bin_data'), '*.*'))\n",
    "    with open('bin_data/data.pkl', 'wb') as fp:\n",
    "        pickle.dump(list, fp)\n",
    "\n",
    "tweets = get_all_tweets(users, client)\n",
    "write_list(tweets)"
   ]
  }
 ],
 "metadata": {
  "kernelspec": {
   "display_name": "Python 3",
   "language": "python",
   "name": "python3"
  },
  "language_info": {
   "codemirror_mode": {
    "name": "ipython",
    "version": 3
   },
   "file_extension": ".py",
   "mimetype": "text/x-python",
   "name": "python",
   "nbconvert_exporter": "python",
   "pygments_lexer": "ipython3",
   "version": "3.8.10"
  },
  "orig_nbformat": 4,
  "vscode": {
   "interpreter": {
    "hash": "31f2aee4e71d21fbe5cf8b01ff0e069b9275f58929596ceb00d14d90e3e16cd6"
   }
  }
 },
 "nbformat": 4,
 "nbformat_minor": 2
}
