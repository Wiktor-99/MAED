{
 "cells": [
  {
   "cell_type": "code",
   "execution_count": 1,
   "metadata": {},
   "outputs": [],
   "source": [
    "import pandas as pd\n",
    "from textblob import TextBlob\n",
    "import re\n",
    "import pickle\n",
    "import tweepy\n",
    "\n",
    "users = ['elonmusk' ,'cristiano','BarackObama', 'billgates','cnnbrk','joebiden','justinbieber','KimKardashian','theellenshow','twitter','youtube']\n",
    "\n",
    "def read_list():\n",
    "    with open('bin_data/data.pkl', 'rb') as fp:\n",
    "        n_list = pickle.load(fp)\n",
    "        return n_list\n",
    "\n",
    "tweets = read_list()\n",
    "\n",
    "all_tweets = [ [ tweepy.Tweet(twt) for twt in user_tweets ] for user_tweets in tweets]"
   ]
  },
  {
   "cell_type": "code",
   "execution_count": 2,
   "metadata": {},
   "outputs": [],
   "source": [
    "emoji = re.compile(\"[\"\n",
    "        u\"\\U0001F600-\\U0001F64F\" \n",
    "        u\"\\U0001F300-\\U0001F5FF\" \n",
    "        u\"\\U0001F680-\\U0001F6FF\" \n",
    "        u\"\\U0001F1E0-\\U0001F1FF\"  \n",
    "        u\"\\U00002500-\\U00002BEF\"  \n",
    "        u\"\\U00002702-\\U000027B0\"\n",
    "        u\"\\U000024C2-\\U0001F251\"\n",
    "        u\"\\U0001f926-\\U0001f937\"\n",
    "        u\"\\U00010000-\\U0010ffff\"\n",
    "        u\"\\u2640-\\u2642\" \n",
    "        u\"\\u2600-\\u2B55\"\n",
    "        u\"\\u200d\"\n",
    "        u\"\\u23cf\"\n",
    "        u\"\\u23e9\"\n",
    "        u\"\\u231a\"\n",
    "        u\"\\ufe0f\"\n",
    "        u\"\\u3030\" \"]+\", re.UNICODE)\n",
    "\n",
    "def is_elon_musk_tweet(tweet):\n",
    "    elon_musk_id = 44196397\n",
    "    return [tweet.author_id == elon_musk_id]\n",
    "\n",
    "def has_link(tweet):\n",
    "    pattern = re.compile(r\"http\\S+\")\n",
    "    if pattern.search(tweet) is not None:\n",
    "        return 1\n",
    "    return 0 \n",
    "\n",
    "def has_hashtag(tweet):\n",
    "    pattern = re.compile('@[A-Za-z0-9]+')\n",
    "    return  1 if pattern.search(tweet) != None else 0\n",
    "\n",
    "def has_emoji(tweet,emoji=emoji):\n",
    "    pattern = re.compile(emoji)\n",
    "    return  1 if pattern.search(tweet) != None else 0\n",
    "\n",
    "def has_at(tweet):\n",
    "    pattern = re.compile('#[A-Za-z0-9]+')\n",
    "    return  1 if pattern.search(tweet) != None else 0\n",
    "\n",
    "def clean_tweet(tweet, emoji = emoji):\n",
    "    tweet = re.sub('#[A-Za-z0-9]+', '', tweet)\n",
    "    tweet = re.sub('\\\\n', '', tweet)\n",
    "    tweet = re.sub(r\"http\\S+\", \"\", tweet)\n",
    "    tweet = re.sub('@[\\S]*', '', tweet) \n",
    "    tweet = re.sub('^[\\s]+|[\\s]+$', '', tweet) #white spaces\n",
    "    tweet = re.sub(emoji, '', tweet)\n",
    "    return tweet\n",
    "\n",
    "def has_text(tweet):\n",
    "    if len(clean_tweet(tweet)):\n",
    "        return 1\n",
    "    return 0\n",
    "\n",
    "def get_tweet_sentiment(tweet):  \n",
    "    analysis = TextBlob(clean_tweet(tweet.text))\n",
    "    return [analysis.sentiment.polarity]\n",
    "\n",
    "def get_tweet_subjectivity(tweet):  \n",
    "    analysis = TextBlob(clean_tweet(tweet.text))\n",
    "    return [analysis.sentiment.subjectivity]\n",
    "\n",
    "def getSentiment(value):\n",
    "  if value == 2:\n",
    "    return 'NoSentiment'\n",
    "  if value < 0:\n",
    "    return 'Negative'\n",
    "  elif value > 0:\n",
    "    return 'Positive'\n",
    "  else:\n",
    "    return 'Neutral'\n",
    "\n",
    "def get_basic_tweet_data(tweet):\n",
    "    elon_musk_id = 44196397\n",
    "    return [ 1 if tweet.author_id == elon_musk_id else 0,\n",
    "            tweet.created_at, \n",
    "            tweet.source,\n",
    "            int(tweet.possibly_sensitive),\n",
    "            tweet.lang,\n",
    "            has_text(tweet.text),\n",
    "            has_link(tweet.text),\n",
    "            has_hashtag(tweet.text),\n",
    "            has_at(tweet.text),\n",
    "            has_emoji(tweet.text)\n",
    "            ]\n",
    "\n",
    "def get_public_metrics(tweet):\n",
    "    return tweet.public_metrics.values()\n",
    "\n",
    "def connect_generated_tweets_data(tweet, functions):\n",
    "    data_row = []\n",
    "    for function in functions:\n",
    "        data_row.extend(function(tweet))\n",
    "    return data_row\n",
    "\n",
    "def make_pd_data_frame(tweets, columns, tweet_data_extract_functions, user):\n",
    "    data_rows = [ connect_generated_tweets_data(tweet, tweet_data_extract_functions) for tweet in tweets]\n",
    "    df = pd.DataFrame(data=data_rows, columns=columns)\n",
    "\n",
    "    return df\n",
    "\n",
    "def get_all_data_frames_and_save_them(all_tweets, users, columns, tweet_data_extract_functions):\n",
    "    data_frames = [] \n",
    "    for index, user in enumerate(users):\n",
    "        data_frame = make_pd_data_frame(all_tweets[index], columns, tweet_data_extract_functions, user)\n",
    "        data_frames.append(data_frame)\n",
    "    return data_frames\n",
    "\n"
   ]
  },
  {
   "cell_type": "markdown",
   "metadata": {},
   "source": [
    "### Ekstrakcja podstawowych informacji  "
   ]
  },
  {
   "cell_type": "code",
   "execution_count": 3,
   "metadata": {},
   "outputs": [],
   "source": [
    "\n",
    "columns=[\n",
    "    'is Elon Musk',\n",
    "    'created at',\n",
    "    'source',\n",
    "    'possibly sensitive',\n",
    "    'lang',\n",
    "    'has_text',\n",
    "    'has_link',\n",
    "    'has_hashtag',\n",
    "    'has_at',\n",
    "    'has_emoji',\n",
    "    'sentiment',\n",
    "    'subjectivity',\n",
    "    'retweet count',\n",
    "    'reply count',\n",
    "    'like count',\n",
    "    'quote count']\n",
    "tweet_data_extract_functions = [get_basic_tweet_data,get_tweet_sentiment, get_tweet_subjectivity, get_public_metrics]\n",
    "data_frames = get_all_data_frames_and_save_them(all_tweets, users, columns, tweet_data_extract_functions)\n",
    "main_df = pd.concat([data_frame for data_frame in data_frames], ignore_index=True, sort=False)\n",
    "main_df.head(8000)\n",
    "main_df.to_csv('user_data/main_df.csv', index=False)"
   ]
  },
  {
   "cell_type": "code",
   "execution_count": 4,
   "metadata": {},
   "outputs": [
    {
     "data": {
      "text/plain": [
       "is Elon Musk  source                  \n",
       "0             Twitter Web App             1868\n",
       "              Twitter for iPhone          1805\n",
       "              Twitter Media Studio         944\n",
       "              SocialFlow                   808\n",
       "              Sprout Social                649\n",
       "              Sprinklr                     588\n",
       "              Twitter Web Client           160\n",
       "              swonkie                       12\n",
       "              Twitter for Advertisers.       4\n",
       "              TweetDeck                      3\n",
       "              Twitter Ads                    2\n",
       "              Arrow.                         1\n",
       "              Instagram                      1\n",
       "              Periscope                      1\n",
       "              Twitter for  iPhone            1\n",
       "              Twitter for Android            1\n",
       "              Twitter for Mac                1\n",
       "1             Twitter for iPhone           709\n",
       "Name: source, dtype: int64"
      ]
     },
     "execution_count": 4,
     "metadata": {},
     "output_type": "execute_result"
    }
   ],
   "source": [
    "main_df.groupby(by='is Elon Musk')['source'].value_counts()"
   ]
  },
  {
   "cell_type": "code",
   "execution_count": 5,
   "metadata": {},
   "outputs": [
    {
     "data": {
      "text/plain": [
       "is Elon Musk  source              \n",
       "0             Twitter Web App         1868\n",
       "              Twitter for iPhone      1805\n",
       "              Twitter Media Studio     944\n",
       "              SocialFlow               808\n",
       "              Sprout Social            649\n",
       "              Sprinklr                 588\n",
       "              Twitter Web Client       160\n",
       "1             Twitter for iPhone       709\n",
       "Name: source, dtype: int64"
      ]
     },
     "execution_count": 5,
     "metadata": {},
     "output_type": "execute_result"
    }
   ],
   "source": [
    "main_df = main_df.groupby('source').filter(lambda x : len(x) > 12)\n",
    "main_df.groupby(by='is Elon Musk')['source'].value_counts()"
   ]
  },
  {
   "cell_type": "code",
   "execution_count": 6,
   "metadata": {},
   "outputs": [
    {
     "data": {
      "text/plain": [
       "is Elon Musk  lang\n",
       "0             en      6092\n",
       "              und      229\n",
       "              pt       119\n",
       "              art      101\n",
       "              zxx       89\n",
       "              it        62\n",
       "              es        54\n",
       "              qst       14\n",
       "              fr        13\n",
       "              qme       13\n",
       "              tl         9\n",
       "              de         4\n",
       "              et         4\n",
       "              cy         3\n",
       "              qht        3\n",
       "              in         2\n",
       "              ja         2\n",
       "              nl         2\n",
       "              tr         2\n",
       "              ca         1\n",
       "              ht         1\n",
       "              lt         1\n",
       "              qam        1\n",
       "              ro         1\n",
       "1             en       605\n",
       "              zxx       65\n",
       "              und       10\n",
       "              art        4\n",
       "              fr         4\n",
       "              pt         4\n",
       "              es         3\n",
       "              qst        3\n",
       "              da         2\n",
       "              de         2\n",
       "              el         1\n",
       "              et         1\n",
       "              ht         1\n",
       "              in         1\n",
       "              it         1\n",
       "              qht        1\n",
       "              tl         1\n",
       "Name: lang, dtype: int64"
      ]
     },
     "execution_count": 6,
     "metadata": {},
     "output_type": "execute_result"
    }
   ],
   "source": [
    "main_df.groupby(by='is Elon Musk')['lang'].value_counts()"
   ]
  },
  {
   "cell_type": "code",
   "execution_count": 7,
   "metadata": {},
   "outputs": [
    {
     "data": {
      "text/plain": [
       "is Elon Musk  lang\n",
       "0             en      6092\n",
       "              art      101\n",
       "              zxx       89\n",
       "1             en       605\n",
       "              zxx       65\n",
       "              art        4\n",
       "Name: lang, dtype: int64"
      ]
     },
     "execution_count": 7,
     "metadata": {},
     "output_type": "execute_result"
    }
   ],
   "source": [
    "values = ['en','art','zxx']\n",
    "main_df = main_df[main_df.lang.isin(values) == True]\n",
    "main_df.groupby(by='is Elon Musk')['lang'].value_counts()"
   ]
  },
  {
   "cell_type": "markdown",
   "metadata": {},
   "source": [
    "### Wycinanie kontekstu tweeta"
   ]
  },
  {
   "cell_type": "code",
   "execution_count": 8,
   "metadata": {},
   "outputs": [],
   "source": [
    "def get_value_from_dict(tweet, name='annotations'):\n",
    "    dict = tweet.entities\n",
    "    if dict is not None:\n",
    "        dict = dict.get(name)\n",
    "        if dict is not None:\n",
    "            return [ [dict[0]['probability'], dict[0]['normalized_text'], dict[0]['type']] ]\n",
    "    return [None]\n",
    "\n",
    "def get_context_annotations_domain_value(tweet, context_annotations_number=0, key='domain'):\n",
    "    context_annotations = tweet.context_annotations\n",
    "\n",
    "    if len(context_annotations) > context_annotations_number:\n",
    "        return context_annotations[context_annotations_number][key]['name']\n",
    "    return None\n",
    "\n",
    "def create_columns_for_annotations_data(number_of_instances=6):\n",
    "    annotations_columns = ['is Elon Musk']\n",
    "    for i in range(number_of_instances):\n",
    "        annotations_columns.extend([f'context annotations domain {i}', f'context annotations entity {i}'])\n",
    "    \n",
    "    annotations_columns.append('annotations')\n",
    "    return annotations_columns\n",
    "    \n",
    "def get_all_annotations_data(tweet, number_of_instances=6):\n",
    "    annotations_data = []\n",
    "    for i in range(number_of_instances):\n",
    "        annotations_data.extend([\n",
    "            get_context_annotations_domain_value(tweet, i),\n",
    "            get_context_annotations_domain_value(tweet, i, 'entity')])\n",
    "    \n",
    "    return annotations_data\n",
    "\n",
    "columns = create_columns_for_annotations_data()\n",
    "tweet_data_extract_functions = [is_elon_musk_tweet, get_all_annotations_data, get_value_from_dict]\n",
    "\n",
    "data_frames = get_all_data_frames_and_save_them(all_tweets, users, columns, tweet_data_extract_functions)\n",
    "\n",
    "annotation_df = pd.concat([data_frame for data_frame in data_frames], ignore_index=True, sort=False)\n",
    "annotation_df.head(8000)\n",
    "annotation_df.to_csv('user_data/annotation_df.csv', index=False)"
   ]
  }
 ],
 "metadata": {
  "kernelspec": {
   "display_name": "Python 3",
   "language": "python",
   "name": "python3"
  },
  "language_info": {
   "codemirror_mode": {
    "name": "ipython",
    "version": 3
   },
   "file_extension": ".py",
   "mimetype": "text/x-python",
   "name": "python",
   "nbconvert_exporter": "python",
   "pygments_lexer": "ipython3",
   "version": "3.8.10 (default, Jun 22 2022, 20:18:18) \n[GCC 9.4.0]"
  },
  "orig_nbformat": 4,
  "vscode": {
   "interpreter": {
    "hash": "31f2aee4e71d21fbe5cf8b01ff0e069b9275f58929596ceb00d14d90e3e16cd6"
   }
  }
 },
 "nbformat": 4,
 "nbformat_minor": 2
}
