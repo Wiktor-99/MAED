{
 "cells": [
  {
   "cell_type": "markdown",
   "metadata": {},
   "source": [
    "# Klasyfikacja tweetów Elona Muska\n",
    "\n",
    "### Projekt realizuje grupa:\n",
    "\n",
    "*  Wiktor Bajor **249459**\n",
    "*  Adam Kubiak **249480**\n",
    "\n",
    "\n",
    "### Opis wykonywanego zadania: \n",
    "\n",
    "&nbsp; W ramach projektu grupa będzie realizować zadanie klasyfikacji binarnej tweetów Elona Muska. Wykonywane zadanie będzie opierać się o zebranie tweetów sławnych ludzi, takich jak politycy, przedsiębiorcy, sportowcy, celebryci, influencerzy oraz Elon Musk. \n",
    "Akwizycja danych będzie realizowana poprzez publiczny interfejs programowania aplikacji (API), udostępniony przez Twitter.  Przy czym możliwa ilość tweetów do pobrania to pięćset tysięcy, co powinno być wystarczającą ilością danych. Dzięki udostępnionemu API można uzyskać dostęp do takich danych jak, treść publikacji, godzina publikacji, lokalizacja, ilość polubień czy ilość retweetów. Po ukończeniu etapu akwizycji danych kolejnym zadaniem, będzie przeanalizowanie tweetów, mając na uwadze takie elementy jak ilość retweetów, ilość polubień, występowanie pewnych słów kluczowych czy też sentyment umieszczonego tekstu. Na podstawie dokonanej analizy zostaną wybrane najbardziej charakterystyczne cechy tweetów Elona Muska. Ostatnim elementem projektu będzie utworzenie i wytrenowanie (na bazie wcześniej wybranych najbardziej istotny cech) klasyfikatora, który będzie oceniał czy dany tweet był napisany przez Elona Muska czy też nie. Wykonana analiza oraz klasyfikator mogłyby zostać wykorzystane do stworzenia cyfrowego sobowtóra Elona Muska. "
   ]
  },
  {
   "cell_type": "code",
   "execution_count": 1,
   "metadata": {},
   "outputs": [
    {
     "ename": "KeyError",
     "evalue": "'is Elon musk'",
     "output_type": "error",
     "traceback": [
      "\u001b[0;31m---------------------------------------------------------------------------\u001b[0m",
      "\u001b[0;31mKeyError\u001b[0m                                  Traceback (most recent call last)",
      "File \u001b[0;32m~/.local/lib/python3.8/site-packages/pandas/core/indexes/base.py:3621\u001b[0m, in \u001b[0;36mIndex.get_loc\u001b[0;34m(self, key, method, tolerance)\u001b[0m\n\u001b[1;32m   3620\u001b[0m \u001b[39mtry\u001b[39;00m:\n\u001b[0;32m-> 3621\u001b[0m     \u001b[39mreturn\u001b[39;00m \u001b[39mself\u001b[39;49m\u001b[39m.\u001b[39;49m_engine\u001b[39m.\u001b[39;49mget_loc(casted_key)\n\u001b[1;32m   3622\u001b[0m \u001b[39mexcept\u001b[39;00m \u001b[39mKeyError\u001b[39;00m \u001b[39mas\u001b[39;00m err:\n",
      "File \u001b[0;32m~/.local/lib/python3.8/site-packages/pandas/_libs/index.pyx:136\u001b[0m, in \u001b[0;36mpandas._libs.index.IndexEngine.get_loc\u001b[0;34m()\u001b[0m\n",
      "File \u001b[0;32m~/.local/lib/python3.8/site-packages/pandas/_libs/index.pyx:163\u001b[0m, in \u001b[0;36mpandas._libs.index.IndexEngine.get_loc\u001b[0;34m()\u001b[0m\n",
      "File \u001b[0;32mpandas/_libs/hashtable_class_helper.pxi:5198\u001b[0m, in \u001b[0;36mpandas._libs.hashtable.PyObjectHashTable.get_item\u001b[0;34m()\u001b[0m\n",
      "File \u001b[0;32mpandas/_libs/hashtable_class_helper.pxi:5206\u001b[0m, in \u001b[0;36mpandas._libs.hashtable.PyObjectHashTable.get_item\u001b[0;34m()\u001b[0m\n",
      "\u001b[0;31mKeyError\u001b[0m: 'is Elon musk'",
      "\nThe above exception was the direct cause of the following exception:\n",
      "\u001b[0;31mKeyError\u001b[0m                                  Traceback (most recent call last)",
      "\u001b[1;32m/home/wiktor/Desktop/MEAD/elon_musk_tweet_classification.ipynb Cell 2\u001b[0m in \u001b[0;36m<cell line: 25>\u001b[0;34m()\u001b[0m\n\u001b[1;32m     <a href='vscode-notebook-cell:/home/wiktor/Desktop/MEAD/elon_musk_tweet_classification.ipynb#W1sZmlsZQ%3D%3D?line=21'>22</a>\u001b[0m data_frame \u001b[39m=\u001b[39m get_data()\n\u001b[1;32m     <a href='vscode-notebook-cell:/home/wiktor/Desktop/MEAD/elon_musk_tweet_classification.ipynb#W1sZmlsZQ%3D%3D?line=22'>23</a>\u001b[0m data_frame[\u001b[39m\"\u001b[39m\u001b[39mcreated at\u001b[39m\u001b[39m\"\u001b[39m] \u001b[39m=\u001b[39m pd\u001b[39m.\u001b[39mto_datetime(data_frame[\u001b[39m\"\u001b[39m\u001b[39mcreated at\u001b[39m\u001b[39m\"\u001b[39m])\n\u001b[0;32m---> <a href='vscode-notebook-cell:/home/wiktor/Desktop/MEAD/elon_musk_tweet_classification.ipynb#W1sZmlsZQ%3D%3D?line=24'>25</a>\u001b[0m data_frame_elon \u001b[39m=\u001b[39m data_frame\u001b[39m.\u001b[39mloc[data_frame[\u001b[39m'\u001b[39;49m\u001b[39mis Elon musk\u001b[39;49m\u001b[39m'\u001b[39;49m] \u001b[39m==\u001b[39m \u001b[39mTrue\u001b[39;00m] \n\u001b[1;32m     <a href='vscode-notebook-cell:/home/wiktor/Desktop/MEAD/elon_musk_tweet_classification.ipynb#W1sZmlsZQ%3D%3D?line=25'>26</a>\u001b[0m data_frame_not_elon \u001b[39m=\u001b[39m data_frame\u001b[39m.\u001b[39mloc[data_frame[\u001b[39m'\u001b[39m\u001b[39mis Elon musk\u001b[39m\u001b[39m'\u001b[39m] \u001b[39m==\u001b[39m \u001b[39mFalse\u001b[39;00m] \n\u001b[1;32m     <a href='vscode-notebook-cell:/home/wiktor/Desktop/MEAD/elon_musk_tweet_classification.ipynb#W1sZmlsZQ%3D%3D?line=27'>28</a>\u001b[0m ylabels \u001b[39m=\u001b[39m [\u001b[39m\"\u001b[39m\u001b[39mlike count\u001b[39m\u001b[39m\"\u001b[39m,\u001b[39m\"\u001b[39m\u001b[39mretweet count\u001b[39m\u001b[39m\"\u001b[39m, \u001b[39m'\u001b[39m\u001b[39mquote count\u001b[39m\u001b[39m'\u001b[39m, \u001b[39m'\u001b[39m\u001b[39mreply count\u001b[39m\u001b[39m'\u001b[39m]\n",
      "File \u001b[0;32m~/.local/lib/python3.8/site-packages/pandas/core/frame.py:3505\u001b[0m, in \u001b[0;36mDataFrame.__getitem__\u001b[0;34m(self, key)\u001b[0m\n\u001b[1;32m   3503\u001b[0m \u001b[39mif\u001b[39;00m \u001b[39mself\u001b[39m\u001b[39m.\u001b[39mcolumns\u001b[39m.\u001b[39mnlevels \u001b[39m>\u001b[39m \u001b[39m1\u001b[39m:\n\u001b[1;32m   3504\u001b[0m     \u001b[39mreturn\u001b[39;00m \u001b[39mself\u001b[39m\u001b[39m.\u001b[39m_getitem_multilevel(key)\n\u001b[0;32m-> 3505\u001b[0m indexer \u001b[39m=\u001b[39m \u001b[39mself\u001b[39;49m\u001b[39m.\u001b[39;49mcolumns\u001b[39m.\u001b[39;49mget_loc(key)\n\u001b[1;32m   3506\u001b[0m \u001b[39mif\u001b[39;00m is_integer(indexer):\n\u001b[1;32m   3507\u001b[0m     indexer \u001b[39m=\u001b[39m [indexer]\n",
      "File \u001b[0;32m~/.local/lib/python3.8/site-packages/pandas/core/indexes/base.py:3623\u001b[0m, in \u001b[0;36mIndex.get_loc\u001b[0;34m(self, key, method, tolerance)\u001b[0m\n\u001b[1;32m   3621\u001b[0m     \u001b[39mreturn\u001b[39;00m \u001b[39mself\u001b[39m\u001b[39m.\u001b[39m_engine\u001b[39m.\u001b[39mget_loc(casted_key)\n\u001b[1;32m   3622\u001b[0m \u001b[39mexcept\u001b[39;00m \u001b[39mKeyError\u001b[39;00m \u001b[39mas\u001b[39;00m err:\n\u001b[0;32m-> 3623\u001b[0m     \u001b[39mraise\u001b[39;00m \u001b[39mKeyError\u001b[39;00m(key) \u001b[39mfrom\u001b[39;00m \u001b[39merr\u001b[39;00m\n\u001b[1;32m   3624\u001b[0m \u001b[39mexcept\u001b[39;00m \u001b[39mTypeError\u001b[39;00m:\n\u001b[1;32m   3625\u001b[0m     \u001b[39m# If we have a listlike key, _check_indexing_error will raise\u001b[39;00m\n\u001b[1;32m   3626\u001b[0m     \u001b[39m#  InvalidIndexError. Otherwise we fall through and re-raise\u001b[39;00m\n\u001b[1;32m   3627\u001b[0m     \u001b[39m#  the TypeError.\u001b[39;00m\n\u001b[1;32m   3628\u001b[0m     \u001b[39mself\u001b[39m\u001b[39m.\u001b[39m_check_indexing_error(key)\n",
      "\u001b[0;31mKeyError\u001b[0m: 'is Elon musk'"
     ]
    }
   ],
   "source": [
    "import matplotlib.pyplot as plt\n",
    "import pandas as pd\n",
    "import numpy as np\n",
    "import glob\n",
    "\n",
    "def plot_charts(data_frame, ylabels):\n",
    "    fig = plt.figure(figsize=(13,10))\n",
    "    fig.subplots_adjust(hspace=0.15,wspace=0.01)\n",
    "\n",
    "    n_row = len(ylabels)\n",
    "    n_col = 1\n",
    "    for count, ylabel in enumerate(ylabels):\n",
    "        ax = fig.add_subplot(n_row, n_col, count+1)\n",
    "        ax.plot(data_frame[\"created at\"].to_numpy(dtype='datetime64'), data_frame[ylabel].to_numpy())\n",
    "        ax.set_ylabel(ylabel)\n",
    "        \n",
    "def get_data(path=\"user_data/basic*.csv\"):\n",
    "    all_files = glob.glob(path)\n",
    "    df_from_each_file = (pd.read_csv(f) for f in all_files)\n",
    "    return pd.concat(df_from_each_file, ignore_index=True)\n",
    "\n",
    "data_frame = get_data()\n",
    "data_frame[\"created at\"] = pd.to_datetime(data_frame[\"created at\"])\n",
    "\n",
    "data_frame_elon = data_frame.loc[data_frame['is Elon Musk'] == True] \n",
    "data_frame_not_elon = data_frame.loc[data_frame['is Elon Musk'] == False] \n",
    "\n",
    "ylabels = [\"like count\",\"retweet count\", 'quote count', 'reply count']\n",
    "\n",
    "\n",
    "plot_charts(data_frame_elon, ylabels)\n",
    "plot_charts(data_frame_not_elon, ylabels)\n"
   ]
  },
  {
   "cell_type": "code",
   "execution_count": null,
   "metadata": {},
   "outputs": [
    {
     "data": {
      "text/html": [
       "<div>\n",
       "<style scoped>\n",
       "    .dataframe tbody tr th:only-of-type {\n",
       "        vertical-align: middle;\n",
       "    }\n",
       "\n",
       "    .dataframe tbody tr th {\n",
       "        vertical-align: top;\n",
       "    }\n",
       "\n",
       "    .dataframe thead th {\n",
       "        text-align: right;\n",
       "    }\n",
       "</style>\n",
       "<table border=\"1\" class=\"dataframe\">\n",
       "  <thead>\n",
       "    <tr style=\"text-align: right;\">\n",
       "      <th></th>\n",
       "      <th>like count</th>\n",
       "      <th>retweet count</th>\n",
       "      <th>quote count</th>\n",
       "      <th>reply count</th>\n",
       "      <th>sentiment</th>\n",
       "    </tr>\n",
       "    <tr>\n",
       "      <th>is Elon musk</th>\n",
       "      <th></th>\n",
       "      <th></th>\n",
       "      <th></th>\n",
       "      <th></th>\n",
       "      <th></th>\n",
       "    </tr>\n",
       "  </thead>\n",
       "  <tbody>\n",
       "    <tr>\n",
       "      <th>False</th>\n",
       "      <td>30230.912972</td>\n",
       "      <td>2865.954481</td>\n",
       "      <td>304.671226</td>\n",
       "      <td>1071.019811</td>\n",
       "      <td>0.158979</td>\n",
       "    </tr>\n",
       "    <tr>\n",
       "      <th>True</th>\n",
       "      <td>267535.212976</td>\n",
       "      <td>22973.414669</td>\n",
       "      <td>4230.071932</td>\n",
       "      <td>17934.578279</td>\n",
       "      <td>0.110371</td>\n",
       "    </tr>\n",
       "  </tbody>\n",
       "</table>\n",
       "</div>"
      ],
      "text/plain": [
       "                 like count  retweet count  quote count   reply count  \\\n",
       "is Elon musk                                                            \n",
       "False          30230.912972    2865.954481   304.671226   1071.019811   \n",
       "True          267535.212976   22973.414669  4230.071932  17934.578279   \n",
       "\n",
       "              sentiment  \n",
       "is Elon musk             \n",
       "False          0.158979  \n",
       "True           0.110371  "
      ]
     },
     "execution_count": 7,
     "metadata": {},
     "output_type": "execute_result"
    }
   ],
   "source": [
    "numeric_columns = [\"like count\",\"retweet count\", 'quote count', 'reply count', 'sentiment']\n",
    "data_frame.groupby(by='is Elon Musk')[numeric_columns].mean()"
   ]
  },
  {
   "cell_type": "code",
   "execution_count": null,
   "metadata": {},
   "outputs": [
    {
     "data": {
      "text/html": [
       "<div>\n",
       "<style scoped>\n",
       "    .dataframe tbody tr th:only-of-type {\n",
       "        vertical-align: middle;\n",
       "    }\n",
       "\n",
       "    .dataframe tbody tr th {\n",
       "        vertical-align: top;\n",
       "    }\n",
       "\n",
       "    .dataframe thead th {\n",
       "        text-align: right;\n",
       "    }\n",
       "</style>\n",
       "<table border=\"1\" class=\"dataframe\">\n",
       "  <thead>\n",
       "    <tr style=\"text-align: right;\">\n",
       "      <th></th>\n",
       "      <th>like count</th>\n",
       "      <th>retweet count</th>\n",
       "      <th>quote count</th>\n",
       "      <th>reply count</th>\n",
       "      <th>sentiment</th>\n",
       "    </tr>\n",
       "    <tr>\n",
       "      <th>is Elon musk</th>\n",
       "      <th></th>\n",
       "      <th></th>\n",
       "      <th></th>\n",
       "      <th></th>\n",
       "      <th></th>\n",
       "    </tr>\n",
       "  </thead>\n",
       "  <tbody>\n",
       "    <tr>\n",
       "      <th>False</th>\n",
       "      <td>7827.5</td>\n",
       "      <td>672.5</td>\n",
       "      <td>53.0</td>\n",
       "      <td>482.5</td>\n",
       "      <td>0.097644</td>\n",
       "    </tr>\n",
       "    <tr>\n",
       "      <th>True</th>\n",
       "      <td>149631.0</td>\n",
       "      <td>10234.0</td>\n",
       "      <td>1230.0</td>\n",
       "      <td>9226.0</td>\n",
       "      <td>0.000000</td>\n",
       "    </tr>\n",
       "  </tbody>\n",
       "</table>\n",
       "</div>"
      ],
      "text/plain": [
       "              like count  retweet count  quote count  reply count  sentiment\n",
       "is Elon musk                                                                \n",
       "False             7827.5          672.5         53.0        482.5   0.097644\n",
       "True            149631.0        10234.0       1230.0       9226.0   0.000000"
      ]
     },
     "execution_count": 8,
     "metadata": {},
     "output_type": "execute_result"
    }
   ],
   "source": [
    "data_frame.groupby(by='is Elon Musk')[numeric_columns].median()"
   ]
  },
  {
   "cell_type": "code",
   "execution_count": null,
   "metadata": {},
   "outputs": [
    {
     "data": {
      "image/png": "[encoded data removed]",
      "text/plain": [
       "<Figure size 1440x720 with 1 Axes>"
      ]
     },
     "metadata": {
      "needs_background": "light"
     },
     "output_type": "display_data"
    }
   ],
   "source": [
    "data_frame_not_elon_count_by_hour = data_frame_not_elon['created at'].groupby(data_frame_not_elon['created at'].dt.hour).count()\n",
    "elon_data_count_by_hour = data_frame_elon['created at'].groupby(data_frame_elon['created at'].dt.hour).count()\n",
    "\n",
    "def fill_missing_hours_with_zero(data_count_by_hour_dict):\n",
    "    for i in range(24):\n",
    "        if i not in data_count_by_hour_dict:\n",
    "            data_count_by_hour_dict[i] = 0\n",
    "    \n",
    "    data_count_by_hour_list = list(dict(sorted(data_count_by_hour_dict.items())).values())\n",
    "    return np.array(data_count_by_hour_list).astype(float)\n",
    "\n",
    "data_count_by_hour = fill_missing_hours_with_zero(data_frame_not_elon_count_by_hour.to_dict())\n",
    "\n",
    "def plot_histogram_of_tweet_during_time(elon_data_count_by_hour, not_elon_data_count_by_hour, y_label, title):\n",
    "    bar_width = 0.4\n",
    "    hours = np.arange(24)\n",
    "    plt.figure(figsize=(20, 10))\n",
    "    plt.bar(hours - bar_width/2, elon_data_count_by_hour.values, width=bar_width, label='Elon')\n",
    "    plt.bar(hours + bar_width/2, not_elon_data_count_by_hour, width=0.4, label='Nie Elon')\n",
    "\n",
    "    plt.xticks(hours, hours)\n",
    "    plt.xlabel(\"Godzina\")\n",
    "    plt.ylabel(y_label)\n",
    "    plt.title(title)\n",
    "    plt.legend()\n",
    "    plt.show()\n",
    "\n",
    "plot_histogram_of_tweet_during_time(elon_data_count_by_hour, data_count_by_hour, 'Ilość tweetów', 'Histogram tweetów na przestrzeni doby')"
   ]
  },
  {
   "cell_type": "code",
   "execution_count": null,
   "metadata": {},
   "outputs": [
    {
     "data": {
      "image/png": "[encoded data removed]",
      "text/plain": [
       "<Figure size 1440x720 with 1 Axes>"
      ]
     },
     "metadata": {
      "needs_background": "light"
     },
     "output_type": "display_data"
    }
   ],
   "source": [
    "elon_sentiment = data_frame_elon.groupby(data_frame_elon['created at'].dt.hour).describe()['sentiment']['mean']\n",
    "not_elon_sentiment = data_frame_not_elon.groupby(data_frame_not_elon['created at'].dt.hour).describe()['sentiment']['mean']\n",
    "\n",
    "data_count_by_hour = fill_missing_hours_with_zero(not_elon_sentiment.to_dict())\n",
    "plot_histogram_of_tweet_during_time(elon_sentiment, data_count_by_hour, 'Średni godzinowy sentyment tweetu', 'Histogram średniego sentymentu na przestrzeni doby')\n"
   ]
  },
  {
   "cell_type": "code",
   "execution_count": null,
   "metadata": {},
   "outputs": [
    {
     "name": "stderr",
     "output_type": "stream",
     "text": [
      "/usr/lib/python3/dist-packages/matplotlib/cbook/__init__.py:1426: VisibleDeprecationWarning: Creating an ndarray from ragged nested sequences (which is a list-or-tuple of lists-or-tuples-or ndarrays with different lengths or shapes) is deprecated. If you meant to do this, you must specify 'dtype=object' when creating the ndarray.\n",
      "  X = np.atleast_1d(X.T if isinstance(X, np.ndarray) else np.asarray(X))\n"
     ]
    },
    {
     "data": {
      "text/plain": [
       "<matplotlib.axes._subplots.AxesSubplot at 0x7fc7b2fea100>"
      ]
     },
     "execution_count": 25,
     "metadata": {},
     "output_type": "execute_result"
    },
    {
     "data": {
      "image/png": "[encoded data removed]",
      "text/plain": [
       "<Figure size 2160x720 with 1 Axes>"
      ]
     },
     "metadata": {
      "needs_background": "light"
     },
     "output_type": "display_data"
    }
   ],
   "source": [
    "data_frame_not_elon.groupby(data_frame_not_elon['created at'].dt.hour).boxplot(column='sentiment', subplots=False, figsize=(30,10))"
   ]
  },
  {
   "cell_type": "code",
   "execution_count": null,
   "metadata": {},
   "outputs": [
    {
     "name": "stderr",
     "output_type": "stream",
     "text": [
      "/usr/lib/python3/dist-packages/matplotlib/cbook/__init__.py:1426: VisibleDeprecationWarning: Creating an ndarray from ragged nested sequences (which is a list-or-tuple of lists-or-tuples-or ndarrays with different lengths or shapes) is deprecated. If you meant to do this, you must specify 'dtype=object' when creating the ndarray.\n",
      "  X = np.atleast_1d(X.T if isinstance(X, np.ndarray) else np.asarray(X))\n"
     ]
    },
    {
     "data": {
      "text/plain": [
       "<matplotlib.axes._subplots.AxesSubplot at 0x7fc7b2d5d2b0>"
      ]
     },
     "execution_count": 26,
     "metadata": {},
     "output_type": "execute_result"
    },
    {
     "data": {
      "image/png": "[encoded data removed]",
      "text/plain": [
       "<Figure size 2160x720 with 1 Axes>"
      ]
     },
     "metadata": {
      "needs_background": "light"
     },
     "output_type": "display_data"
    }
   ],
   "source": [
    "data_frame_elon.groupby(data_frame_elon['created at'].dt.hour).boxplot(column='sentiment', subplots=False, figsize=(30,10))"
   ]
  },
  {
   "cell_type": "code",
   "execution_count": null,
   "metadata": {},
   "outputs": [
    {
     "name": "stderr",
     "output_type": "stream",
     "text": [
      "/usr/lib/python3/dist-packages/matplotlib/cbook/__init__.py:1426: VisibleDeprecationWarning: Creating an ndarray from ragged nested sequences (which is a list-or-tuple of lists-or-tuples-or ndarrays with different lengths or shapes) is deprecated. If you meant to do this, you must specify 'dtype=object' when creating the ndarray.\n",
      "  X = np.atleast_1d(X.T if isinstance(X, np.ndarray) else np.asarray(X))\n"
     ]
    },
    {
     "data": {
      "text/plain": [
       "<matplotlib.axes._subplots.AxesSubplot at 0x7fc7b2b1a5e0>"
      ]
     },
     "execution_count": 27,
     "metadata": {},
     "output_type": "execute_result"
    },
    {
     "data": {
      "image/png": "[encoded data removed]",
      "text/plain": [
       "<Figure size 2160x720 with 1 Axes>"
      ]
     },
     "metadata": {
      "needs_background": "light"
     },
     "output_type": "display_data"
    }
   ],
   "source": [
    "data_frame_elon.groupby(data_frame_elon['created at'].dt.hour).boxplot(column='like count', subplots=False, figsize=(30,10))"
   ]
  },
  {
   "cell_type": "code",
   "execution_count": null,
   "metadata": {},
   "outputs": [
    {
     "name": "stderr",
     "output_type": "stream",
     "text": [
      "/usr/lib/python3/dist-packages/matplotlib/cbook/__init__.py:1426: VisibleDeprecationWarning: Creating an ndarray from ragged nested sequences (which is a list-or-tuple of lists-or-tuples-or ndarrays with different lengths or shapes) is deprecated. If you meant to do this, you must specify 'dtype=object' when creating the ndarray.\n",
      "  X = np.atleast_1d(X.T if isinstance(X, np.ndarray) else np.asarray(X))\n"
     ]
    },
    {
     "data": {
      "text/plain": [
       "<matplotlib.axes._subplots.AxesSubplot at 0x7fc7b28f3700>"
      ]
     },
     "execution_count": 28,
     "metadata": {},
     "output_type": "execute_result"
    },
    {
     "data": {
      "image/png": "[encoded data removed]",
      "text/plain": [
       "<Figure size 2160x720 with 1 Axes>"
      ]
     },
     "metadata": {
      "needs_background": "light"
     },
     "output_type": "display_data"
    }
   ],
   "source": [
    "data_frame_not_elon.groupby(data_frame_not_elon['created at'].dt.hour).boxplot(column='like count', subplots=False, figsize=(30,10))"
   ]
  },
  {
   "cell_type": "code",
   "execution_count": null,
   "metadata": {},
   "outputs": [
    {
     "data": {
      "text/html": [
       "<div>\n",
       "<style scoped>\n",
       "    .dataframe tbody tr th:only-of-type {\n",
       "        vertical-align: middle;\n",
       "    }\n",
       "\n",
       "    .dataframe tbody tr th {\n",
       "        vertical-align: top;\n",
       "    }\n",
       "\n",
       "    .dataframe thead th {\n",
       "        text-align: right;\n",
       "    }\n",
       "</style>\n",
       "<table border=\"1\" class=\"dataframe\">\n",
       "  <thead>\n",
       "    <tr style=\"text-align: right;\">\n",
       "      <th></th>\n",
       "      <th>is Elon musk</th>\n",
       "      <th>created at</th>\n",
       "      <th>text</th>\n",
       "      <th>source</th>\n",
       "      <th>possibly sensitive</th>\n",
       "      <th>lang</th>\n",
       "      <th>sentiment</th>\n",
       "      <th>retweet count</th>\n",
       "      <th>reply count</th>\n",
       "      <th>like count</th>\n",
       "      <th>quote count</th>\n",
       "    </tr>\n",
       "  </thead>\n",
       "  <tbody>\n",
       "    <tr>\n",
       "      <th>336</th>\n",
       "      <td>True</td>\n",
       "      <td>2022-11-12 07:36:39+00:00</td>\n",
       "      <td>🪦🤖</td>\n",
       "      <td>Twitter for iPhone</td>\n",
       "      <td>False</td>\n",
       "      <td>art</td>\n",
       "      <td>0.0</td>\n",
       "      <td>28234</td>\n",
       "      <td>32281</td>\n",
       "      <td>432470</td>\n",
       "      <td>7557</td>\n",
       "    </tr>\n",
       "    <tr>\n",
       "      <th>351</th>\n",
       "      <td>True</td>\n",
       "      <td>2022-11-10 16:41:54+00:00</td>\n",
       "      <td>NaN</td>\n",
       "      <td>Twitter for iPhone</td>\n",
       "      <td>False</td>\n",
       "      <td>zxx</td>\n",
       "      <td>0.0</td>\n",
       "      <td>19716</td>\n",
       "      <td>19946</td>\n",
       "      <td>319090</td>\n",
       "      <td>2474</td>\n",
       "    </tr>\n",
       "    <tr>\n",
       "      <th>356</th>\n",
       "      <td>True</td>\n",
       "      <td>2022-11-08 01:28:07+00:00</td>\n",
       "      <td>NaN</td>\n",
       "      <td>Twitter for iPhone</td>\n",
       "      <td>False</td>\n",
       "      <td>zxx</td>\n",
       "      <td>0.0</td>\n",
       "      <td>48909</td>\n",
       "      <td>47262</td>\n",
       "      <td>688334</td>\n",
       "      <td>9617</td>\n",
       "    </tr>\n",
       "    <tr>\n",
       "      <th>377</th>\n",
       "      <td>True</td>\n",
       "      <td>2022-11-05 17:26:42+00:00</td>\n",
       "      <td>NaN</td>\n",
       "      <td>Twitter for iPhone</td>\n",
       "      <td>False</td>\n",
       "      <td>zxx</td>\n",
       "      <td>0.0</td>\n",
       "      <td>12974</td>\n",
       "      <td>9050</td>\n",
       "      <td>152189</td>\n",
       "      <td>1333</td>\n",
       "    </tr>\n",
       "    <tr>\n",
       "      <th>389</th>\n",
       "      <td>True</td>\n",
       "      <td>2022-11-03 06:48:24+00:00</td>\n",
       "      <td>🎯</td>\n",
       "      <td>Twitter for iPhone</td>\n",
       "      <td>False</td>\n",
       "      <td>art</td>\n",
       "      <td>0.0</td>\n",
       "      <td>13035</td>\n",
       "      <td>9303</td>\n",
       "      <td>167413</td>\n",
       "      <td>819</td>\n",
       "    </tr>\n",
       "    <tr>\n",
       "      <th>...</th>\n",
       "      <td>...</td>\n",
       "      <td>...</td>\n",
       "      <td>...</td>\n",
       "      <td>...</td>\n",
       "      <td>...</td>\n",
       "      <td>...</td>\n",
       "      <td>...</td>\n",
       "      <td>...</td>\n",
       "      <td>...</td>\n",
       "      <td>...</td>\n",
       "      <td>...</td>\n",
       "    </tr>\n",
       "    <tr>\n",
       "      <th>1028</th>\n",
       "      <td>True</td>\n",
       "      <td>2022-03-25 01:15:13+00:00</td>\n",
       "      <td>NaN</td>\n",
       "      <td>Twitter for iPhone</td>\n",
       "      <td>False</td>\n",
       "      <td>zxx</td>\n",
       "      <td>0.0</td>\n",
       "      <td>4542</td>\n",
       "      <td>2660</td>\n",
       "      <td>57482</td>\n",
       "      <td>332</td>\n",
       "    </tr>\n",
       "    <tr>\n",
       "      <th>1032</th>\n",
       "      <td>True</td>\n",
       "      <td>2022-03-24 20:26:49+00:00</td>\n",
       "      <td>♥️♥️ NASA ♥️♥️</td>\n",
       "      <td>Twitter for iPhone</td>\n",
       "      <td>False</td>\n",
       "      <td>tl</td>\n",
       "      <td>0.0</td>\n",
       "      <td>6226</td>\n",
       "      <td>4748</td>\n",
       "      <td>85679</td>\n",
       "      <td>356</td>\n",
       "    </tr>\n",
       "    <tr>\n",
       "      <th>1034</th>\n",
       "      <td>True</td>\n",
       "      <td>2022-03-22 13:30:39+00:00</td>\n",
       "      <td>🇩🇪🇩🇪 Danke Deutschland!! 🇩🇪🇩🇪</td>\n",
       "      <td>Twitter for iPhone</td>\n",
       "      <td>False</td>\n",
       "      <td>de</td>\n",
       "      <td>0.0</td>\n",
       "      <td>14161</td>\n",
       "      <td>16524</td>\n",
       "      <td>273485</td>\n",
       "      <td>1786</td>\n",
       "    </tr>\n",
       "    <tr>\n",
       "      <th>1036</th>\n",
       "      <td>True</td>\n",
       "      <td>2022-03-19 08:35:46+00:00</td>\n",
       "      <td>NaN</td>\n",
       "      <td>Twitter for iPhone</td>\n",
       "      <td>False</td>\n",
       "      <td>zxx</td>\n",
       "      <td>0.0</td>\n",
       "      <td>66437</td>\n",
       "      <td>25861</td>\n",
       "      <td>781613</td>\n",
       "      <td>5018</td>\n",
       "    </tr>\n",
       "    <tr>\n",
       "      <th>1038</th>\n",
       "      <td>True</td>\n",
       "      <td>2022-03-19 05:48:12+00:00</td>\n",
       "      <td></td>\n",
       "      <td>Twitter for iPhone</td>\n",
       "      <td>False</td>\n",
       "      <td>zxx</td>\n",
       "      <td>0.0</td>\n",
       "      <td>4643</td>\n",
       "      <td>4262</td>\n",
       "      <td>77912</td>\n",
       "      <td>271</td>\n",
       "    </tr>\n",
       "  </tbody>\n",
       "</table>\n",
       "<p>119 rows × 11 columns</p>\n",
       "</div>"
      ],
      "text/plain": [
       "      is Elon musk                created at                           text  \\\n",
       "336           True 2022-11-12 07:36:39+00:00                             🪦🤖   \n",
       "351           True 2022-11-10 16:41:54+00:00                            NaN   \n",
       "356           True 2022-11-08 01:28:07+00:00                            NaN   \n",
       "377           True 2022-11-05 17:26:42+00:00                            NaN   \n",
       "389           True 2022-11-03 06:48:24+00:00                             🎯    \n",
       "...            ...                       ...                            ...   \n",
       "1028          True 2022-03-25 01:15:13+00:00                            NaN   \n",
       "1032          True 2022-03-24 20:26:49+00:00                ♥️♥️ NASA ♥️♥️    \n",
       "1034          True 2022-03-22 13:30:39+00:00  🇩🇪🇩🇪 Danke Deutschland!! 🇩🇪🇩🇪   \n",
       "1036          True 2022-03-19 08:35:46+00:00                            NaN   \n",
       "1038          True 2022-03-19 05:48:12+00:00                                  \n",
       "\n",
       "                  source  possibly sensitive lang  sentiment  retweet count  \\\n",
       "336   Twitter for iPhone               False  art        0.0          28234   \n",
       "351   Twitter for iPhone               False  zxx        0.0          19716   \n",
       "356   Twitter for iPhone               False  zxx        0.0          48909   \n",
       "377   Twitter for iPhone               False  zxx        0.0          12974   \n",
       "389   Twitter for iPhone               False  art        0.0          13035   \n",
       "...                  ...                 ...  ...        ...            ...   \n",
       "1028  Twitter for iPhone               False  zxx        0.0           4542   \n",
       "1032  Twitter for iPhone               False   tl        0.0           6226   \n",
       "1034  Twitter for iPhone               False   de        0.0          14161   \n",
       "1036  Twitter for iPhone               False  zxx        0.0          66437   \n",
       "1038  Twitter for iPhone               False  zxx        0.0           4643   \n",
       "\n",
       "      reply count  like count  quote count  \n",
       "336         32281      432470         7557  \n",
       "351         19946      319090         2474  \n",
       "356         47262      688334         9617  \n",
       "377          9050      152189         1333  \n",
       "389          9303      167413          819  \n",
       "...           ...         ...          ...  \n",
       "1028         2660       57482          332  \n",
       "1032         4748       85679          356  \n",
       "1034        16524      273485         1786  \n",
       "1036        25861      781613         5018  \n",
       "1038         4262       77912          271  \n",
       "\n",
       "[119 rows x 11 columns]"
      ]
     },
     "execution_count": 54,
     "metadata": {},
     "output_type": "execute_result"
    }
   ],
   "source": [
    "df = data_frame_elon.loc[data_frame_elon['lang'] != 'en']\n",
    "# df = df[~df['text'].isna()]\n",
    "df"
   ]
  },
  {
   "cell_type": "code",
   "execution_count": null,
   "metadata": {},
   "outputs": [
    {
     "data": {
      "text/plain": [
       "0.16784203102961917"
      ]
     },
     "execution_count": 55,
     "metadata": {},
     "output_type": "execute_result"
    }
   ],
   "source": [
    "len(df.index) / len(data_frame_elon.index)"
   ]
  },
  {
   "cell_type": "code",
   "execution_count": null,
   "metadata": {},
   "outputs": [
    {
     "data": {
      "text/html": [
       "<div>\n",
       "<style scoped>\n",
       "    .dataframe tbody tr th:only-of-type {\n",
       "        vertical-align: middle;\n",
       "    }\n",
       "\n",
       "    .dataframe tbody tr th {\n",
       "        vertical-align: top;\n",
       "    }\n",
       "\n",
       "    .dataframe thead th {\n",
       "        text-align: right;\n",
       "    }\n",
       "</style>\n",
       "<table border=\"1\" class=\"dataframe\">\n",
       "  <thead>\n",
       "    <tr style=\"text-align: right;\">\n",
       "      <th></th>\n",
       "      <th>is Elon musk</th>\n",
       "      <th>created at</th>\n",
       "      <th>text</th>\n",
       "      <th>source</th>\n",
       "      <th>possibly sensitive</th>\n",
       "      <th>lang</th>\n",
       "      <th>sentiment</th>\n",
       "      <th>retweet count</th>\n",
       "      <th>reply count</th>\n",
       "      <th>like count</th>\n",
       "      <th>quote count</th>\n",
       "    </tr>\n",
       "  </thead>\n",
       "  <tbody>\n",
       "    <tr>\n",
       "      <th>5</th>\n",
       "      <td>False</td>\n",
       "      <td>2022-09-20 22:14:59+00:00</td>\n",
       "      <td>NaN</td>\n",
       "      <td>Twitter for iPhone</td>\n",
       "      <td>False</td>\n",
       "      <td>zxx</td>\n",
       "      <td>0.0</td>\n",
       "      <td>261</td>\n",
       "      <td>1849</td>\n",
       "      <td>2282</td>\n",
       "      <td>95</td>\n",
       "    </tr>\n",
       "    <tr>\n",
       "      <th>6</th>\n",
       "      <td>False</td>\n",
       "      <td>2022-09-10 18:33:46+00:00</td>\n",
       "      <td>NaN</td>\n",
       "      <td>Twitter for iPhone</td>\n",
       "      <td>False</td>\n",
       "      <td>zxx</td>\n",
       "      <td>0.0</td>\n",
       "      <td>423</td>\n",
       "      <td>1535</td>\n",
       "      <td>2571</td>\n",
       "      <td>70</td>\n",
       "    </tr>\n",
       "    <tr>\n",
       "      <th>23</th>\n",
       "      <td>False</td>\n",
       "      <td>2022-05-24 02:05:21+00:00</td>\n",
       "      <td>NaN</td>\n",
       "      <td>Twitter for iPhone</td>\n",
       "      <td>False</td>\n",
       "      <td>zxx</td>\n",
       "      <td>0.0</td>\n",
       "      <td>255</td>\n",
       "      <td>803</td>\n",
       "      <td>2972</td>\n",
       "      <td>48</td>\n",
       "    </tr>\n",
       "    <tr>\n",
       "      <th>37</th>\n",
       "      <td>False</td>\n",
       "      <td>2022-05-09 23:03:17+00:00</td>\n",
       "      <td>Congrats, Katya!</td>\n",
       "      <td>Twitter for iPhone</td>\n",
       "      <td>False</td>\n",
       "      <td>hi</td>\n",
       "      <td>0.0</td>\n",
       "      <td>266</td>\n",
       "      <td>544</td>\n",
       "      <td>2776</td>\n",
       "      <td>50</td>\n",
       "    </tr>\n",
       "    <tr>\n",
       "      <th>51</th>\n",
       "      <td>False</td>\n",
       "      <td>2022-04-19 01:44:18+00:00</td>\n",
       "      <td>NaN</td>\n",
       "      <td>Twitter for iPhone</td>\n",
       "      <td>False</td>\n",
       "      <td>zxx</td>\n",
       "      <td>0.0</td>\n",
       "      <td>204</td>\n",
       "      <td>503</td>\n",
       "      <td>1884</td>\n",
       "      <td>158</td>\n",
       "    </tr>\n",
       "    <tr>\n",
       "      <th>...</th>\n",
       "      <td>...</td>\n",
       "      <td>...</td>\n",
       "      <td>...</td>\n",
       "      <td>...</td>\n",
       "      <td>...</td>\n",
       "      <td>...</td>\n",
       "      <td>...</td>\n",
       "      <td>...</td>\n",
       "      <td>...</td>\n",
       "      <td>...</td>\n",
       "      <td>...</td>\n",
       "    </tr>\n",
       "    <tr>\n",
       "      <th>4101</th>\n",
       "      <td>False</td>\n",
       "      <td>2021-11-01 12:30:47+00:00</td>\n",
       "      <td>Bronze. Iron. Steel. #Bitcoin</td>\n",
       "      <td>Twitter Web App</td>\n",
       "      <td>False</td>\n",
       "      <td>nl</td>\n",
       "      <td>0.0</td>\n",
       "      <td>767</td>\n",
       "      <td>543</td>\n",
       "      <td>9278</td>\n",
       "      <td>57</td>\n",
       "    </tr>\n",
       "    <tr>\n",
       "      <th>4102</th>\n",
       "      <td>False</td>\n",
       "      <td>2021-11-01 00:18:22+00:00</td>\n",
       "      <td>NaN</td>\n",
       "      <td>Twitter for iPhone</td>\n",
       "      <td>False</td>\n",
       "      <td>zxx</td>\n",
       "      <td>0.0</td>\n",
       "      <td>93</td>\n",
       "      <td>181</td>\n",
       "      <td>789</td>\n",
       "      <td>10</td>\n",
       "    </tr>\n",
       "    <tr>\n",
       "      <th>4227</th>\n",
       "      <td>False</td>\n",
       "      <td>2022-10-12 15:43:28+00:00</td>\n",
       "      <td>Lea mi artículo en @LaOpinionLA, sobre lo que ...</td>\n",
       "      <td>Twitter for iPhone</td>\n",
       "      <td>False</td>\n",
       "      <td>es</td>\n",
       "      <td>0.0</td>\n",
       "      <td>75</td>\n",
       "      <td>219</td>\n",
       "      <td>386</td>\n",
       "      <td>19</td>\n",
       "    </tr>\n",
       "    <tr>\n",
       "      <th>4269</th>\n",
       "      <td>False</td>\n",
       "      <td>2022-09-29 00:34:23+00:00</td>\n",
       "      <td>Gracias a @GavinNewsom por apoyar a nuestros t...</td>\n",
       "      <td>Twitter for iPhone</td>\n",
       "      <td>False</td>\n",
       "      <td>es</td>\n",
       "      <td>0.0</td>\n",
       "      <td>64</td>\n",
       "      <td>130</td>\n",
       "      <td>366</td>\n",
       "      <td>2</td>\n",
       "    </tr>\n",
       "    <tr>\n",
       "      <th>4270</th>\n",
       "      <td>False</td>\n",
       "      <td>2022-09-29 00:34:22+00:00</td>\n",
       "      <td>¡Esta es una victoria histórica y dichosa para...</td>\n",
       "      <td>Twitter for iPhone</td>\n",
       "      <td>False</td>\n",
       "      <td>es</td>\n",
       "      <td>0.0</td>\n",
       "      <td>150</td>\n",
       "      <td>208</td>\n",
       "      <td>834</td>\n",
       "      <td>6</td>\n",
       "    </tr>\n",
       "  </tbody>\n",
       "</table>\n",
       "<p>201 rows × 11 columns</p>\n",
       "</div>"
      ],
      "text/plain": [
       "      is Elon musk                created at  \\\n",
       "5            False 2022-09-20 22:14:59+00:00   \n",
       "6            False 2022-09-10 18:33:46+00:00   \n",
       "23           False 2022-05-24 02:05:21+00:00   \n",
       "37           False 2022-05-09 23:03:17+00:00   \n",
       "51           False 2022-04-19 01:44:18+00:00   \n",
       "...            ...                       ...   \n",
       "4101         False 2021-11-01 12:30:47+00:00   \n",
       "4102         False 2021-11-01 00:18:22+00:00   \n",
       "4227         False 2022-10-12 15:43:28+00:00   \n",
       "4269         False 2022-09-29 00:34:23+00:00   \n",
       "4270         False 2022-09-29 00:34:22+00:00   \n",
       "\n",
       "                                                   text              source  \\\n",
       "5                                                   NaN  Twitter for iPhone   \n",
       "6                                                   NaN  Twitter for iPhone   \n",
       "23                                                  NaN  Twitter for iPhone   \n",
       "37                                    Congrats, Katya!   Twitter for iPhone   \n",
       "51                                                  NaN  Twitter for iPhone   \n",
       "...                                                 ...                 ...   \n",
       "4101                      Bronze. Iron. Steel. #Bitcoin     Twitter Web App   \n",
       "4102                                                NaN  Twitter for iPhone   \n",
       "4227  Lea mi artículo en @LaOpinionLA, sobre lo que ...  Twitter for iPhone   \n",
       "4269  Gracias a @GavinNewsom por apoyar a nuestros t...  Twitter for iPhone   \n",
       "4270  ¡Esta es una victoria histórica y dichosa para...  Twitter for iPhone   \n",
       "\n",
       "      possibly sensitive lang  sentiment  retweet count  reply count  \\\n",
       "5                  False  zxx        0.0            261         1849   \n",
       "6                  False  zxx        0.0            423         1535   \n",
       "23                 False  zxx        0.0            255          803   \n",
       "37                 False   hi        0.0            266          544   \n",
       "51                 False  zxx        0.0            204          503   \n",
       "...                  ...  ...        ...            ...          ...   \n",
       "4101               False   nl        0.0            767          543   \n",
       "4102               False  zxx        0.0             93          181   \n",
       "4227               False   es        0.0             75          219   \n",
       "4269               False   es        0.0             64          130   \n",
       "4270               False   es        0.0            150          208   \n",
       "\n",
       "      like count  quote count  \n",
       "5           2282           95  \n",
       "6           2571           70  \n",
       "23          2972           48  \n",
       "37          2776           50  \n",
       "51          1884          158  \n",
       "...          ...          ...  \n",
       "4101        9278           57  \n",
       "4102         789           10  \n",
       "4227         386           19  \n",
       "4269         366            2  \n",
       "4270         834            6  \n",
       "\n",
       "[201 rows x 11 columns]"
      ]
     },
     "execution_count": 53,
     "metadata": {},
     "output_type": "execute_result"
    }
   ],
   "source": [
    "df2 = data_frame_not_elon.loc[data_frame_not_elon['lang'] != 'en']\n",
    "# df2 = df2[~df2['text'].isna()]\n",
    "df2"
   ]
  },
  {
   "cell_type": "code",
   "execution_count": null,
   "metadata": {},
   "outputs": [
    {
     "data": {
      "text/plain": [
       "0.0330188679245283"
      ]
     },
     "execution_count": 51,
     "metadata": {},
     "output_type": "execute_result"
    }
   ],
   "source": [
    "len(df2.index) / len(data_frame_not_elon.index)"
   ]
  },
  {
   "cell_type": "code",
   "execution_count": null,
   "metadata": {},
   "outputs": [
    {
     "name": "stdout",
     "output_type": "stream",
     "text": [
      "Twitter for iPhone    709\n",
      "Name: source, dtype: int64\n",
      "Twitter for iPhone          2113\n",
      "Twitter Web App             1527\n",
      "Twitter Media Studio         220\n",
      "Twitter Web Client           193\n",
      "Sprout Social                 77\n",
      "Emplifi                       72\n",
      "Instagram                     19\n",
      "Twitter for Android            9\n",
      "Twitter Ads                    4\n",
      "Meltwater Social               4\n",
      "Vine - Make a Scene            1\n",
      "Twitter for Advertisers.       1\n",
      "Name: source, dtype: int64\n"
     ]
    }
   ],
   "source": [
    "print(data_frame_elon['source'].value_counts())\n",
    "print(data_frame_not_elon['source'].value_counts())"
   ]
  },
  {
   "cell_type": "code",
   "execution_count": null,
   "metadata": {},
   "outputs": [
    {
     "name": "stdout",
     "output_type": "stream",
     "text": [
      "False    709\n",
      "Name: possibly sensitive, dtype: int64\n",
      "False    4238\n",
      "True        2\n",
      "Name: possibly sensitive, dtype: int64\n"
     ]
    }
   ],
   "source": [
    "print(data_frame_elon['possibly sensitive'].value_counts())\n",
    "print(data_frame_not_elon['possibly sensitive'].value_counts())"
   ]
  },
  {
   "cell_type": "code",
   "execution_count": null,
   "metadata": {},
   "outputs": [],
   "source": [
    "data_frame_annotations = get_data(\"user_data/annotations*.csv\")\n",
    "data_frame_annotations[\"created at\"] = pd.to_datetime(data_frame[\"created at\"])\n",
    "\n",
    "data_frame_annotations_elon = data_frame_annotations.loc[data_frame_annotations['is Elon Musk'] == True] \n",
    "data_frame_annotations_not_elon = data_frame_annotations.loc[data_frame_annotations['is Elon Musk'] == False] "
   ]
  },
  {
   "cell_type": "code",
   "execution_count": null,
   "metadata": {},
   "outputs": [
    {
     "name": "stdout",
     "output_type": "stream",
     "text": [
      "Person                            377\n",
      "Business Taxonomy                 231\n",
      "Entities [Entity Service]          26\n",
      "Unified Twitter Taxonomy           21\n",
      "Video Game                         12\n",
      "Events [Entity Service]             8\n",
      "Interests and Hobbies               7\n",
      "Brand                               6\n",
      "TV Shows                            5\n",
      "Brand Vertical                      5\n",
      "Interests and Hobbies Category      2\n",
      "Ongoing News Story                  2\n",
      "Multimedia Franchise                1\n",
      "Podcast                             1\n",
      "Interests and Hobbies Vertical      1\n",
      "Movie                               1\n",
      "Political Body                      1\n",
      "Cities                              1\n",
      "Name: context annotations domain 0, dtype: int64\n",
      "\n",
      "\n",
      "\n",
      "Elon Musk                                                       371\n",
      "Financial Services Business                                     223\n",
      "Aerospace                                                        17\n",
      "Starlink: Battle for Atlas                                       11\n",
      "Automotive, Aircraft & Boat Business                              8\n",
      "SpaceX                                                            4\n",
      "Climate change                                                    4\n",
      "Technology                                                        3\n",
      "Music                                                             3\n",
      "Science                                                           3\n",
      "Automotive                                                        3\n",
      "SpaceX launches Crew Dragon with two NASA astronauts onboard      3\n",
      "CPG                                                               3\n",
      "Halloween                                                         3\n",
      "Das Boot                                                          2\n",
      "Social media                                                      2\n",
      "Politics                                                          2\n",
      "Donald Trump                                                      2\n",
      "Mergers & Acquisitions                                            2\n",
      "Premier League                                                    1\n",
      "United States Congress                                            1\n",
      "Alexandria Ocasio-Cortez                                          1\n",
      "Space                                                             1\n",
      "Elden Ring                                                        1\n",
      "Entertainment                                                     1\n",
      "Food                                                              1\n",
      "Stocks & indices                                                  1\n",
      "Easter                                                            1\n",
      "Joe Biden                                                         1\n",
      "Drinks                                                            1\n",
      "Russo-Ukrainian conflict                                          1\n",
      "Truth Social                                                      1\n",
      "Apple                                                             1\n",
      "Traffic                                                           1\n",
      "GPS and maps                                                      1\n",
      "Cinematography                                                    1\n",
      "Top Gun: Maverick                                                 1\n",
      "TikTok                                                            1\n",
      "Parag Agrawal                                                     1\n",
      "Hospitality                                                       1\n",
      "Global security & terrorism                                       1\n",
      "San Antonio                                                       1\n",
      "Stanford University                                               1\n",
      "Family and life stages                                            1\n",
      "Podcasts                                                          1\n",
      "Philosophy                                                        1\n",
      "Vikings                                                           1\n",
      "Television                                                        1\n",
      "Suicide Squad                                                     1\n",
      "Commodities                                                       1\n",
      "Inflation                                                         1\n",
      "Disney characters                                                 1\n",
      "Formula One Racing                                                1\n",
      "Services                                                          1\n",
      "Pope Francis                                                      1\n",
      "Dogecoin cryptocurrency                                           1\n",
      "Father's Day                                                      1\n",
      "COVID-19                                                          1\n",
      "Name: context annotations entity 0, dtype: int64\n",
      "\n",
      "\n",
      "\n",
      "\n",
      "Person                            2859\n",
      "Entities [Entity Service]          342\n",
      "Brand Vertical                     248\n",
      "TV Shows                           198\n",
      "Business Taxonomy                  120\n",
      "Events [Entity Service]            107\n",
      "Unified Twitter Taxonomy            64\n",
      "Ongoing News Story                  46\n",
      "Sports Event                        32\n",
      "Interests and Hobbies Vertical      21\n",
      "Political Body                      16\n",
      "Interests and Hobbies                9\n",
      "States                               9\n",
      "Interests and Hobbies Category       7\n",
      "Cities                               5\n",
      "News Vertical                        4\n",
      "Movie                                2\n",
      "Reoccurring Trends                   1\n",
      "Product                              1\n",
      "Political Race                       1\n",
      "Sports League                        1\n",
      "Name: context annotations domain 0, dtype: int64\n",
      "\n",
      "\n",
      "\n",
      "Nancy Pelosi                                  742\n",
      "KSI                                           733\n",
      "Shaquille O'Neal                              549\n",
      "Barack Obama                                  383\n",
      "Bitcoin cryptocurrency                        318\n",
      "                                             ... \n",
      "Global Economy                                  1\n",
      "Memorial Day 2018                               1\n",
      "2017 Special Olympics World Games: Austria      1\n",
      "Ron Paul                                        1\n",
      "Dina Titus                                      1\n",
      "Name: context annotations entity 0, Length: 307, dtype: int64\n"
     ]
    }
   ],
   "source": [
    "print(data_frame_annotations_elon['context annotations domain 0'].value_counts())\n",
    "print('\\n\\n')\n",
    "print(data_frame_annotations_elon['context annotations entity 0'].value_counts())\n",
    "\n",
    "print('\\n\\n\\n')\n",
    "\n",
    "print(data_frame_annotations_not_elon['context annotations domain 0'].value_counts())\n",
    "print('\\n\\n')\n",
    "print(data_frame_annotations_not_elon['context annotations entity 0'].value_counts())\n"
   ]
  }
 ],
 "metadata": {
  "kernelspec": {
   "display_name": "Python 3.8.10 64-bit",
   "language": "python",
   "name": "python3"
  },
  "language_info": {
   "codemirror_mode": {
    "name": "ipython",
    "version": 3
   },
   "file_extension": ".py",
   "mimetype": "text/x-python",
   "name": "python",
   "nbconvert_exporter": "python",
   "pygments_lexer": "ipython3",
   "version": "3.8.10"
  },
  "orig_nbformat": 4,
  "vscode": {
   "interpreter": {
    "hash": "31f2aee4e71d21fbe5cf8b01ff0e069b9275f58929596ceb00d14d90e3e16cd6"
   }
  }
 },
 "nbformat": 4,
 "nbformat_minor": 2
}
