{
 "cells": [
  {
   "cell_type": "markdown",
   "metadata": {},
   "source": [
    "# Klasyfikacja tweetów Elona Muska\n",
    "\n",
    "### Projekt realizuje grupa:\n",
    "\n",
    "*  Wiktor Bajor **249459**\n",
    "*  Adam Kubiak **249480**\n",
    "\n",
    "\n",
    "### Opis wykonywanego zadania: \n",
    "\n",
    "&nbsp; W ramach projektu grupa będzie realizować zadanie klasyfikacji binarnej tweetów Elona Muska. Wykonywane zadanie będzie opierać się o zebranie tweetów sławnych ludzi, takich jak politycy, przedsiębiorcy, sportowcy, celebryci, influencerzy oraz Elon Musk. \n",
    "Akwizycja danych będzie realizowana poprzez publiczny interfejs programowania aplikacji (API), udostępniony przez Twitter.  Przy czym możliwa ilość tweetów do pobrania to pięćset tysięcy, co powinno być wystarczającą ilością danych. Dzięki udostępnionemu API można uzyskać dostęp do takich danych jak, treść publikacji, godzina publikacji, lokalizacja, ilość polubień czy ilość retweetów. Po ukończeniu etapu akwizycji danych kolejnym zadaniem, będzie przeanalizowanie tweetów, mając na uwadze takie elementy jak ilość retweetów, ilość polubień, występowanie pewnych słów kluczowych czy też sentyment umieszczonego tekstu. Na podstawie dokonanej analizy zostaną wybrane najbardziej charakterystyczne cechy tweetów Elona Muska. Ostatnim elementem projektu będzie utworzenie i wytrenowanie (na bazie wcześniej wybranych najbardziej istotny cech) klasyfikatora, który będzie oceniał czy dany tweet był napisany przez Elona Muska czy też nie. Wykonana analiza oraz klasyfikator mogłyby zostać wykorzystane do stworzenia cyfrowego sobowtóra Elona Muska. "
   ]
  },
  {
   "cell_type": "markdown",
   "metadata": {},
   "source": [
    "### Eksploracyjna analiza danych\n",
    "\n",
    "#### Pochodzenie danych\n",
    "\n",
    "Dane pobierane są bezpośrednio z Twittera. Do akwizycji wykorzystane zostało API V2, udostępnione bezpośrednio przez Twitter oraz dedykowana biblioteka Tweepy, która umożliwiła wygodne pobieranie danych z wykorzystaniem języka Python3. \n",
    "\n",
    "\n",
    "Zdecydowano się na poddanie analizie kilka publicznych osób o zbliżonej ilości obserwatorów. Do wybrania odpowiednich kont wykorzystano stronę https://www.socialtracker.io/toplists/top-50-twitter-users-by-followers/, na której została zebrana lista 50 najbardziej popularnych kont. W trakcie wyboru kont starano się aby wybrane konta reprezentowały różne części społeczeństwa(politycy, celebryci, przedsiębiorcy, artyści oraz platformy medialne).\n",
    "\n",
    "Finalnie wybrano:\n",
    "\n",
    "* Elon Musk $-$ ~`115` mln obserwujących\n",
    "* Barack Obama $-$ ~`133` mln obserwujących\n",
    "* Justin Bieber $-$ ~`113` mln obserwujących\n",
    "* Cristiano Ronaldo $-$ ~`104` mln obserwujących\n",
    "* Narendra Modi $-$ ~`84` mln obserwujących\n",
    "* YouTube $-$ ~`77` mln obserwujących\n",
    "* Ellen DeGeneres $-$ ~`77` mln obserwujących\n",
    "* Twitter $-$ ~`64` mln obserwujących\n",
    "* CNN $-$ ~`64` mln obserwujących\n",
    "* Bill Gates $-$ ~`61` mln obserwujących\n",
    "* Joe Biden $-$ ~`36` mln obserwujących\n",
    "\n",
    "\n",
    "Skrypt realizujący akwizycje tweetów, zawarte jest w pliku `tweets_scraper.ipynb`  "
   ]
  },
  {
   "cell_type": "markdown",
   "metadata": {},
   "source": [
    "### Opis zmiennych\n",
    "\n",
    "Api Twittera umożliwia pobranie wielu danych w ramach projektu zdecydowano się na pobranie kolejnych danych:\n",
    "\n",
    "* `created_at`(string w formacie daty) - jest to data zamieszczenia wpisu z dokładnością co do sekundy, tą informacje można wykorzystać do sprawdzenia aktywności użytkownika w trakcie doby\n",
    "* `text`(string) - zawartość wpisu\n",
    "* `source`(string) - źródło publikacji wiadomości, na przykład czy wpis był wykonany z aplikacji z iPhone czy ze strony internetowej\n",
    "* `possibly sensitive`(bool) - zawiera informacje czy dany wpis zawiera treści wrażliwe\n",
    "* `lang`(string) - język wpisu\n",
    "* `sentiment`(float) - sentyment wpisu w skali od -1 do 1 wyliczony z treści wpisu z wykorzystaniem biblioteki `TextBlob`\n",
    "* `retweet count`(int) - ilość 'podania dalej wpisu'\n",
    "* `reply count`(int) - ilość odpowiedzi \n",
    "* `like count`(int) - ilość polubień wpisu\n",
    "* `quote count`(int) - ilość cytowań wpisu\n",
    "* `is Elon Musk`(bool) - identyfikuje czy dany jest wpis jest utworzony przez Elona Muska \n",
    "\n",
    "\n",
    "Powyżej została opisana podstawowa część danych. Dane w tabeli występują następująco.\n",
    "\n",
    "\n"
   ]
  },
  {
   "cell_type": "code",
   "execution_count": 1,
   "metadata": {},
   "outputs": [
    {
     "data": {
      "text/html": [
       "<div>\n",
       "<style scoped>\n",
       "    .dataframe tbody tr th:only-of-type {\n",
       "        vertical-align: middle;\n",
       "    }\n",
       "\n",
       "    .dataframe tbody tr th {\n",
       "        vertical-align: top;\n",
       "    }\n",
       "\n",
       "    .dataframe thead th {\n",
       "        text-align: right;\n",
       "    }\n",
       "</style>\n",
       "<table border=\"1\" class=\"dataframe\">\n",
       "  <thead>\n",
       "    <tr style=\"text-align: right;\">\n",
       "      <th></th>\n",
       "      <th>is Elon Musk</th>\n",
       "      <th>created at</th>\n",
       "      <th>source</th>\n",
       "      <th>possibly sensitive</th>\n",
       "      <th>lang</th>\n",
       "      <th>has_text</th>\n",
       "      <th>has_link</th>\n",
       "      <th>has_hashtag</th>\n",
       "      <th>has_at</th>\n",
       "      <th>has_emoji</th>\n",
       "      <th>sentiment</th>\n",
       "      <th>retweet count</th>\n",
       "      <th>reply count</th>\n",
       "      <th>like count</th>\n",
       "      <th>quote count</th>\n",
       "    </tr>\n",
       "  </thead>\n",
       "  <tbody>\n",
       "    <tr>\n",
       "      <th>0</th>\n",
       "      <td>0</td>\n",
       "      <td>2022-12-09 20:33:47+00:00</td>\n",
       "      <td>Twitter for iPhone</td>\n",
       "      <td>False</td>\n",
       "      <td>pt</td>\n",
       "      <td>1</td>\n",
       "      <td>1</td>\n",
       "      <td>0</td>\n",
       "      <td>0</td>\n",
       "      <td>1</td>\n",
       "      <td>0.097656</td>\n",
       "      <td>18326</td>\n",
       "      <td>10011</td>\n",
       "      <td>252923</td>\n",
       "      <td>2403</td>\n",
       "    </tr>\n",
       "    <tr>\n",
       "      <th>1</th>\n",
       "      <td>0</td>\n",
       "      <td>2022-12-08 13:09:12+00:00</td>\n",
       "      <td>Twitter for iPhone</td>\n",
       "      <td>False</td>\n",
       "      <td>pt</td>\n",
       "      <td>1</td>\n",
       "      <td>1</td>\n",
       "      <td>0</td>\n",
       "      <td>0</td>\n",
       "      <td>1</td>\n",
       "      <td>0.000000</td>\n",
       "      <td>30416</td>\n",
       "      <td>6597</td>\n",
       "      <td>337088</td>\n",
       "      <td>2680</td>\n",
       "    </tr>\n",
       "    <tr>\n",
       "      <th>2</th>\n",
       "      <td>0</td>\n",
       "      <td>2022-12-04 18:17:56+00:00</td>\n",
       "      <td>Twitter for iPhone</td>\n",
       "      <td>False</td>\n",
       "      <td>und</td>\n",
       "      <td>0</td>\n",
       "      <td>1</td>\n",
       "      <td>0</td>\n",
       "      <td>0</td>\n",
       "      <td>1</td>\n",
       "      <td>2.000000</td>\n",
       "      <td>23807</td>\n",
       "      <td>8658</td>\n",
       "      <td>481361</td>\n",
       "      <td>1657</td>\n",
       "    </tr>\n",
       "    <tr>\n",
       "      <th>3</th>\n",
       "      <td>0</td>\n",
       "      <td>2022-12-02 17:56:36+00:00</td>\n",
       "      <td>Twitter for iPhone</td>\n",
       "      <td>False</td>\n",
       "      <td>pt</td>\n",
       "      <td>1</td>\n",
       "      <td>1</td>\n",
       "      <td>0</td>\n",
       "      <td>0</td>\n",
       "      <td>1</td>\n",
       "      <td>0.000000</td>\n",
       "      <td>11821</td>\n",
       "      <td>3602</td>\n",
       "      <td>206787</td>\n",
       "      <td>539</td>\n",
       "    </tr>\n",
       "    <tr>\n",
       "      <th>4</th>\n",
       "      <td>0</td>\n",
       "      <td>2022-12-01 17:39:01+00:00</td>\n",
       "      <td>Twitter for iPhone</td>\n",
       "      <td>False</td>\n",
       "      <td>pt</td>\n",
       "      <td>1</td>\n",
       "      <td>1</td>\n",
       "      <td>0</td>\n",
       "      <td>0</td>\n",
       "      <td>1</td>\n",
       "      <td>0.000000</td>\n",
       "      <td>13855</td>\n",
       "      <td>3795</td>\n",
       "      <td>272434</td>\n",
       "      <td>635</td>\n",
       "    </tr>\n",
       "  </tbody>\n",
       "</table>\n",
       "</div>"
      ],
      "text/plain": [
       "   is Elon Musk                created at              source  \\\n",
       "0             0 2022-12-09 20:33:47+00:00  Twitter for iPhone   \n",
       "1             0 2022-12-08 13:09:12+00:00  Twitter for iPhone   \n",
       "2             0 2022-12-04 18:17:56+00:00  Twitter for iPhone   \n",
       "3             0 2022-12-02 17:56:36+00:00  Twitter for iPhone   \n",
       "4             0 2022-12-01 17:39:01+00:00  Twitter for iPhone   \n",
       "\n",
       "   possibly sensitive lang  has_text  has_link  has_hashtag  has_at  \\\n",
       "0               False   pt         1         1            0       0   \n",
       "1               False   pt         1         1            0       0   \n",
       "2               False  und         0         1            0       0   \n",
       "3               False   pt         1         1            0       0   \n",
       "4               False   pt         1         1            0       0   \n",
       "\n",
       "   has_emoji  sentiment  retweet count  reply count  like count  quote count  \n",
       "0          1   0.097656          18326        10011      252923         2403  \n",
       "1          1   0.000000          30416         6597      337088         2680  \n",
       "2          1   2.000000          23807         8658      481361         1657  \n",
       "3          1   0.000000          11821         3602      206787          539  \n",
       "4          1   0.000000          13855         3795      272434          635  "
      ]
     },
     "execution_count": 1,
     "metadata": {},
     "output_type": "execute_result"
    }
   ],
   "source": [
    "import matplotlib.pyplot as plt\n",
    "import pandas as pd\n",
    "import numpy as np\n",
    "import glob\n",
    "\n",
    "        \n",
    "def get_data(path=\"user_data/basic*.csv\"):\n",
    "    all_files = glob.glob(path)\n",
    "    df_from_each_file = (pd.read_csv(f) for f in all_files)\n",
    "    return pd.concat(df_from_each_file, ignore_index=True)\n",
    "\n",
    "data_frame = get_data()\n",
    "data_frame[\"created at\"] = pd.to_datetime(data_frame[\"created at\"])\n",
    "data_frame.head(5)"
   ]
  },
  {
   "cell_type": "markdown",
   "metadata": {},
   "source": [
    "### Opis zmiennych \n",
    "\n",
    "Poza podstawowymi informacjami Twitter umożliwia pobranie gotowych analiz tekstu. Utworzone analizy zawierają, do sześciu różnych analiz. Pięć pierwszych analiz zawiera informacje o dziedzinie wpisu oraz o istocie wpisu. Ostatnia, szósta analiza zawiera prawdopodobieństw trafności analizy, dziedzinę oraz istotę wpisu. Ostatnia analiza nie jest dostępna dla każdego wpisu.     "
   ]
  },
  {
   "cell_type": "code",
   "execution_count": 2,
   "metadata": {},
   "outputs": [
    {
     "data": {
      "text/html": [
       "<div>\n",
       "<style scoped>\n",
       "    .dataframe tbody tr th:only-of-type {\n",
       "        vertical-align: middle;\n",
       "    }\n",
       "\n",
       "    .dataframe tbody tr th {\n",
       "        vertical-align: top;\n",
       "    }\n",
       "\n",
       "    .dataframe thead th {\n",
       "        text-align: right;\n",
       "    }\n",
       "</style>\n",
       "<table border=\"1\" class=\"dataframe\">\n",
       "  <thead>\n",
       "    <tr style=\"text-align: right;\">\n",
       "      <th></th>\n",
       "      <th>is Elon Musk</th>\n",
       "      <th>context annotations domain 0</th>\n",
       "      <th>context annotations entity 0</th>\n",
       "      <th>context annotations domain 1</th>\n",
       "      <th>context annotations entity 1</th>\n",
       "      <th>context annotations domain 2</th>\n",
       "      <th>context annotations entity 2</th>\n",
       "      <th>context annotations domain 3</th>\n",
       "      <th>context annotations entity 3</th>\n",
       "      <th>context annotations domain 4</th>\n",
       "      <th>context annotations entity 4</th>\n",
       "      <th>context annotations domain 5</th>\n",
       "      <th>context annotations entity 5</th>\n",
       "      <th>annotations</th>\n",
       "      <th>created at</th>\n",
       "    </tr>\n",
       "  </thead>\n",
       "  <tbody>\n",
       "    <tr>\n",
       "      <th>0</th>\n",
       "      <td>False</td>\n",
       "      <td>Business Taxonomy</td>\n",
       "      <td>Financial Services Business</td>\n",
       "      <td>Person</td>\n",
       "      <td>Bill Gates</td>\n",
       "      <td>Interests and Hobbies Vertical</td>\n",
       "      <td>Business &amp; finance</td>\n",
       "      <td>Interests and Hobbies Vertical</td>\n",
       "      <td>Business &amp; finance</td>\n",
       "      <td>Entities [Entity Service]</td>\n",
       "      <td>Technology</td>\n",
       "      <td>Unified Twitter Taxonomy</td>\n",
       "      <td>Bill Gates</td>\n",
       "      <td>[0.5982, 'WorldToiletDay', 'Other']</td>\n",
       "      <td>2022-12-09 20:33:47+00:00</td>\n",
       "    </tr>\n",
       "    <tr>\n",
       "      <th>1</th>\n",
       "      <td>False</td>\n",
       "      <td>Business Taxonomy</td>\n",
       "      <td>Financial Services Business</td>\n",
       "      <td>Ongoing News Story</td>\n",
       "      <td>COVID-19</td>\n",
       "      <td>Unified Twitter Taxonomy</td>\n",
       "      <td>COVID-19</td>\n",
       "      <td>Events [Entity Service]</td>\n",
       "      <td>COVID-19: Latest news updates from around the ...</td>\n",
       "      <td>NaN</td>\n",
       "      <td>NaN</td>\n",
       "      <td>NaN</td>\n",
       "      <td>NaN</td>\n",
       "      <td>[0.9384, 'COVID-19 vaccines', 'Other']</td>\n",
       "      <td>2022-12-08 13:09:12+00:00</td>\n",
       "    </tr>\n",
       "    <tr>\n",
       "      <th>2</th>\n",
       "      <td>False</td>\n",
       "      <td>Business Taxonomy</td>\n",
       "      <td>Financial Services Business</td>\n",
       "      <td>Ongoing News Story</td>\n",
       "      <td>COVID-19</td>\n",
       "      <td>Unified Twitter Taxonomy</td>\n",
       "      <td>COVID-19</td>\n",
       "      <td>NaN</td>\n",
       "      <td>NaN</td>\n",
       "      <td>NaN</td>\n",
       "      <td>NaN</td>\n",
       "      <td>NaN</td>\n",
       "      <td>NaN</td>\n",
       "      <td>NaN</td>\n",
       "      <td>2022-12-04 18:17:56+00:00</td>\n",
       "    </tr>\n",
       "    <tr>\n",
       "      <th>3</th>\n",
       "      <td>False</td>\n",
       "      <td>Business Taxonomy</td>\n",
       "      <td>Financial Services Business</td>\n",
       "      <td>Person</td>\n",
       "      <td>Bill Gates</td>\n",
       "      <td>Interests and Hobbies Vertical</td>\n",
       "      <td>Business &amp; finance</td>\n",
       "      <td>Interests and Hobbies Vertical</td>\n",
       "      <td>Business &amp; finance</td>\n",
       "      <td>Entities [Entity Service]</td>\n",
       "      <td>Technology</td>\n",
       "      <td>Unified Twitter Taxonomy</td>\n",
       "      <td>Bill Gates</td>\n",
       "      <td>[0.9801, 'Africa', 'Place']</td>\n",
       "      <td>2022-12-02 17:56:36+00:00</td>\n",
       "    </tr>\n",
       "    <tr>\n",
       "      <th>4</th>\n",
       "      <td>False</td>\n",
       "      <td>Business Taxonomy</td>\n",
       "      <td>Financial Services Business</td>\n",
       "      <td>Person</td>\n",
       "      <td>Bill Gates</td>\n",
       "      <td>Interests and Hobbies Vertical</td>\n",
       "      <td>Business &amp; finance</td>\n",
       "      <td>Interests and Hobbies Vertical</td>\n",
       "      <td>Business &amp; finance</td>\n",
       "      <td>Entities [Entity Service]</td>\n",
       "      <td>Technology</td>\n",
       "      <td>Unified Twitter Taxonomy</td>\n",
       "      <td>Bill Gates</td>\n",
       "      <td>[0.7884, 'Mike', 'Person']</td>\n",
       "      <td>2022-12-01 17:39:01+00:00</td>\n",
       "    </tr>\n",
       "  </tbody>\n",
       "</table>\n",
       "</div>"
      ],
      "text/plain": [
       "   is Elon Musk context annotations domain 0 context annotations entity 0  \\\n",
       "0         False            Business Taxonomy  Financial Services Business   \n",
       "1         False            Business Taxonomy  Financial Services Business   \n",
       "2         False            Business Taxonomy  Financial Services Business   \n",
       "3         False            Business Taxonomy  Financial Services Business   \n",
       "4         False            Business Taxonomy  Financial Services Business   \n",
       "\n",
       "  context annotations domain 1 context annotations entity 1  \\\n",
       "0                       Person                   Bill Gates   \n",
       "1           Ongoing News Story                     COVID-19   \n",
       "2           Ongoing News Story                     COVID-19   \n",
       "3                       Person                   Bill Gates   \n",
       "4                       Person                   Bill Gates   \n",
       "\n",
       "     context annotations domain 2 context annotations entity 2  \\\n",
       "0  Interests and Hobbies Vertical           Business & finance   \n",
       "1        Unified Twitter Taxonomy                     COVID-19   \n",
       "2        Unified Twitter Taxonomy                     COVID-19   \n",
       "3  Interests and Hobbies Vertical           Business & finance   \n",
       "4  Interests and Hobbies Vertical           Business & finance   \n",
       "\n",
       "     context annotations domain 3  \\\n",
       "0  Interests and Hobbies Vertical   \n",
       "1         Events [Entity Service]   \n",
       "2                             NaN   \n",
       "3  Interests and Hobbies Vertical   \n",
       "4  Interests and Hobbies Vertical   \n",
       "\n",
       "                        context annotations entity 3  \\\n",
       "0                                 Business & finance   \n",
       "1  COVID-19: Latest news updates from around the ...   \n",
       "2                                                NaN   \n",
       "3                                 Business & finance   \n",
       "4                                 Business & finance   \n",
       "\n",
       "  context annotations domain 4 context annotations entity 4  \\\n",
       "0    Entities [Entity Service]                   Technology   \n",
       "1                          NaN                          NaN   \n",
       "2                          NaN                          NaN   \n",
       "3    Entities [Entity Service]                   Technology   \n",
       "4    Entities [Entity Service]                   Technology   \n",
       "\n",
       "  context annotations domain 5 context annotations entity 5  \\\n",
       "0     Unified Twitter Taxonomy                   Bill Gates   \n",
       "1                          NaN                          NaN   \n",
       "2                          NaN                          NaN   \n",
       "3     Unified Twitter Taxonomy                   Bill Gates   \n",
       "4     Unified Twitter Taxonomy                   Bill Gates   \n",
       "\n",
       "                              annotations                created at  \n",
       "0     [0.5982, 'WorldToiletDay', 'Other'] 2022-12-09 20:33:47+00:00  \n",
       "1  [0.9384, 'COVID-19 vaccines', 'Other'] 2022-12-08 13:09:12+00:00  \n",
       "2                                     NaN 2022-12-04 18:17:56+00:00  \n",
       "3             [0.9801, 'Africa', 'Place'] 2022-12-02 17:56:36+00:00  \n",
       "4              [0.7884, 'Mike', 'Person'] 2022-12-01 17:39:01+00:00  "
      ]
     },
     "execution_count": 2,
     "metadata": {},
     "output_type": "execute_result"
    }
   ],
   "source": [
    "data_annotations_frame = get_data('user_data/annotations*.csv')\n",
    "data_annotations_frame[\"created at\"] = pd.to_datetime(data_frame[\"created at\"])\n",
    "data_annotations_frame.head(5)"
   ]
  },
  {
   "cell_type": "markdown",
   "metadata": {},
   "source": [
    "### Badanie brakujących zmiennych \n",
    "\n",
    "Twitter udostępnia dane, które są kompletne, ciężko znaleźć jakieś braki. \n",
    "W niektórych przypadkach brakuje analizy kontekstu wypowiedzi.\n",
    "Brak ten nie jest istotny z punkt widzenia całego zbiory, ponieważ całkowity brak analizy tekstu występuje tylko dla kilku próbek.\n",
    "Próbki obarczone tym problemem mogą zostać wykluczone.\n",
    "Kolejnym elementem, który bywa wybrakowany jest treść wpisu(szczególnie w przypadku Elona Muska). Mimo braku treści wpisu, nadal informacje dostępne są dane o ilości odpowiedzi czy polubień, więc takie dane mogą zostać wykorzystane."
   ]
  },
  {
   "cell_type": "code",
   "execution_count": 3,
   "metadata": {},
   "outputs": [
    {
     "data": {
      "text/html": [
       "<div>\n",
       "<style scoped>\n",
       "    .dataframe tbody tr th:only-of-type {\n",
       "        vertical-align: middle;\n",
       "    }\n",
       "\n",
       "    .dataframe tbody tr th {\n",
       "        vertical-align: top;\n",
       "    }\n",
       "\n",
       "    .dataframe thead th {\n",
       "        text-align: right;\n",
       "    }\n",
       "</style>\n",
       "<table border=\"1\" class=\"dataframe\">\n",
       "  <thead>\n",
       "    <tr style=\"text-align: right;\">\n",
       "      <th></th>\n",
       "      <th>is Elon Musk</th>\n",
       "      <th>context annotations domain 0</th>\n",
       "      <th>context annotations entity 0</th>\n",
       "      <th>context annotations domain 1</th>\n",
       "      <th>context annotations entity 1</th>\n",
       "      <th>context annotations domain 2</th>\n",
       "      <th>context annotations entity 2</th>\n",
       "      <th>context annotations domain 3</th>\n",
       "      <th>context annotations entity 3</th>\n",
       "      <th>context annotations domain 4</th>\n",
       "      <th>context annotations entity 4</th>\n",
       "      <th>context annotations domain 5</th>\n",
       "      <th>context annotations entity 5</th>\n",
       "      <th>annotations</th>\n",
       "      <th>created at</th>\n",
       "    </tr>\n",
       "  </thead>\n",
       "  <tbody>\n",
       "    <tr>\n",
       "      <th>0</th>\n",
       "      <td>False</td>\n",
       "      <td>Business Taxonomy</td>\n",
       "      <td>Financial Services Business</td>\n",
       "      <td>Person</td>\n",
       "      <td>Bill Gates</td>\n",
       "      <td>Interests and Hobbies Vertical</td>\n",
       "      <td>Business &amp; finance</td>\n",
       "      <td>Interests and Hobbies Vertical</td>\n",
       "      <td>Business &amp; finance</td>\n",
       "      <td>Entities [Entity Service]</td>\n",
       "      <td>Technology</td>\n",
       "      <td>Unified Twitter Taxonomy</td>\n",
       "      <td>Bill Gates</td>\n",
       "      <td>[0.5982, 'WorldToiletDay', 'Other']</td>\n",
       "      <td>2022-12-09 20:33:47+00:00</td>\n",
       "    </tr>\n",
       "    <tr>\n",
       "      <th>1</th>\n",
       "      <td>False</td>\n",
       "      <td>Business Taxonomy</td>\n",
       "      <td>Financial Services Business</td>\n",
       "      <td>Ongoing News Story</td>\n",
       "      <td>COVID-19</td>\n",
       "      <td>Unified Twitter Taxonomy</td>\n",
       "      <td>COVID-19</td>\n",
       "      <td>Events [Entity Service]</td>\n",
       "      <td>COVID-19: Latest news updates from around the ...</td>\n",
       "      <td>NaN</td>\n",
       "      <td>NaN</td>\n",
       "      <td>NaN</td>\n",
       "      <td>NaN</td>\n",
       "      <td>[0.9384, 'COVID-19 vaccines', 'Other']</td>\n",
       "      <td>2022-12-08 13:09:12+00:00</td>\n",
       "    </tr>\n",
       "    <tr>\n",
       "      <th>3</th>\n",
       "      <td>False</td>\n",
       "      <td>Business Taxonomy</td>\n",
       "      <td>Financial Services Business</td>\n",
       "      <td>Person</td>\n",
       "      <td>Bill Gates</td>\n",
       "      <td>Interests and Hobbies Vertical</td>\n",
       "      <td>Business &amp; finance</td>\n",
       "      <td>Interests and Hobbies Vertical</td>\n",
       "      <td>Business &amp; finance</td>\n",
       "      <td>Entities [Entity Service]</td>\n",
       "      <td>Technology</td>\n",
       "      <td>Unified Twitter Taxonomy</td>\n",
       "      <td>Bill Gates</td>\n",
       "      <td>[0.9801, 'Africa', 'Place']</td>\n",
       "      <td>2022-12-02 17:56:36+00:00</td>\n",
       "    </tr>\n",
       "    <tr>\n",
       "      <th>4</th>\n",
       "      <td>False</td>\n",
       "      <td>Business Taxonomy</td>\n",
       "      <td>Financial Services Business</td>\n",
       "      <td>Person</td>\n",
       "      <td>Bill Gates</td>\n",
       "      <td>Interests and Hobbies Vertical</td>\n",
       "      <td>Business &amp; finance</td>\n",
       "      <td>Interests and Hobbies Vertical</td>\n",
       "      <td>Business &amp; finance</td>\n",
       "      <td>Entities [Entity Service]</td>\n",
       "      <td>Technology</td>\n",
       "      <td>Unified Twitter Taxonomy</td>\n",
       "      <td>Bill Gates</td>\n",
       "      <td>[0.7884, 'Mike', 'Person']</td>\n",
       "      <td>2022-12-01 17:39:01+00:00</td>\n",
       "    </tr>\n",
       "    <tr>\n",
       "      <th>5</th>\n",
       "      <td>False</td>\n",
       "      <td>Business Taxonomy</td>\n",
       "      <td>Financial Services Business</td>\n",
       "      <td>Ongoing News Story</td>\n",
       "      <td>COVID-19</td>\n",
       "      <td>Unified Twitter Taxonomy</td>\n",
       "      <td>News</td>\n",
       "      <td>Unified Twitter Taxonomy</td>\n",
       "      <td>Journalists</td>\n",
       "      <td>Unified Twitter Taxonomy</td>\n",
       "      <td>COVID-19</td>\n",
       "      <td>Person</td>\n",
       "      <td>Bill Gates</td>\n",
       "      <td>[0.9748, 'Michael Gerson', 'Person']</td>\n",
       "      <td>2022-11-28 21:35:59+00:00</td>\n",
       "    </tr>\n",
       "  </tbody>\n",
       "</table>\n",
       "</div>"
      ],
      "text/plain": [
       "   is Elon Musk context annotations domain 0 context annotations entity 0  \\\n",
       "0         False            Business Taxonomy  Financial Services Business   \n",
       "1         False            Business Taxonomy  Financial Services Business   \n",
       "3         False            Business Taxonomy  Financial Services Business   \n",
       "4         False            Business Taxonomy  Financial Services Business   \n",
       "5         False            Business Taxonomy  Financial Services Business   \n",
       "\n",
       "  context annotations domain 1 context annotations entity 1  \\\n",
       "0                       Person                   Bill Gates   \n",
       "1           Ongoing News Story                     COVID-19   \n",
       "3                       Person                   Bill Gates   \n",
       "4                       Person                   Bill Gates   \n",
       "5           Ongoing News Story                     COVID-19   \n",
       "\n",
       "     context annotations domain 2 context annotations entity 2  \\\n",
       "0  Interests and Hobbies Vertical           Business & finance   \n",
       "1        Unified Twitter Taxonomy                     COVID-19   \n",
       "3  Interests and Hobbies Vertical           Business & finance   \n",
       "4  Interests and Hobbies Vertical           Business & finance   \n",
       "5        Unified Twitter Taxonomy                         News   \n",
       "\n",
       "     context annotations domain 3  \\\n",
       "0  Interests and Hobbies Vertical   \n",
       "1         Events [Entity Service]   \n",
       "3  Interests and Hobbies Vertical   \n",
       "4  Interests and Hobbies Vertical   \n",
       "5        Unified Twitter Taxonomy   \n",
       "\n",
       "                        context annotations entity 3  \\\n",
       "0                                 Business & finance   \n",
       "1  COVID-19: Latest news updates from around the ...   \n",
       "3                                 Business & finance   \n",
       "4                                 Business & finance   \n",
       "5                                        Journalists   \n",
       "\n",
       "  context annotations domain 4 context annotations entity 4  \\\n",
       "0    Entities [Entity Service]                   Technology   \n",
       "1                          NaN                          NaN   \n",
       "3    Entities [Entity Service]                   Technology   \n",
       "4    Entities [Entity Service]                   Technology   \n",
       "5     Unified Twitter Taxonomy                     COVID-19   \n",
       "\n",
       "  context annotations domain 5 context annotations entity 5  \\\n",
       "0     Unified Twitter Taxonomy                   Bill Gates   \n",
       "1                          NaN                          NaN   \n",
       "3     Unified Twitter Taxonomy                   Bill Gates   \n",
       "4     Unified Twitter Taxonomy                   Bill Gates   \n",
       "5                       Person                   Bill Gates   \n",
       "\n",
       "                              annotations                created at  \n",
       "0     [0.5982, 'WorldToiletDay', 'Other'] 2022-12-09 20:33:47+00:00  \n",
       "1  [0.9384, 'COVID-19 vaccines', 'Other'] 2022-12-08 13:09:12+00:00  \n",
       "3             [0.9801, 'Africa', 'Place'] 2022-12-02 17:56:36+00:00  \n",
       "4              [0.7884, 'Mike', 'Person'] 2022-12-01 17:39:01+00:00  \n",
       "5    [0.9748, 'Michael Gerson', 'Person'] 2022-11-28 21:35:59+00:00  "
      ]
     },
     "execution_count": 3,
     "metadata": {},
     "output_type": "execute_result"
    }
   ],
   "source": [
    "data_annotations_frame = data_annotations_frame[(~data_annotations_frame['context annotations domain 0'].isna() & ~data_annotations_frame['annotations'].isna())]\n",
    "data_annotations_frame.head(5)"
   ]
  },
  {
   "cell_type": "markdown",
   "metadata": {},
   "source": [
    "### Analiza danych numerycznych \n",
    "\n",
    "W przypadku dostępnych danym, kilka zmiennych to dane numeryczne:\n",
    "\n",
    "* `like count`\n",
    "* `retweet count`\n",
    "* `quote count`\n",
    "* `reply count`\n",
    "* `sentiment`\n",
    "\n",
    "Żeby lepiej przyjrzeć się danym numerycznym, wykorzystano podstawowe własności."
   ]
  },
  {
   "cell_type": "markdown",
   "metadata": {},
   "source": [
    "#### Średnia\n",
    "\n",
    "Analizując wartości średnie liczby polubień, odpowiedzi, cytowań czy podawania dalej można zauważyć, że \n",
    "każda wartości poza średnim sentymentem jest kilkukrotnie wyższa. Można zauważyć iż największa różnica bo\n",
    "aż dziesięciokrotna jest w średniej liczbie odpowiedzi na wpis. Co może świadczyć o tym iż wpisy Elona Muska bardziej \n",
    "angażują społeczność."
   ]
  },
  {
   "cell_type": "code",
   "execution_count": 4,
   "metadata": {},
   "outputs": [
    {
     "data": {
      "text/html": [
       "<div>\n",
       "<style scoped>\n",
       "    .dataframe tbody tr th:only-of-type {\n",
       "        vertical-align: middle;\n",
       "    }\n",
       "\n",
       "    .dataframe tbody tr th {\n",
       "        vertical-align: top;\n",
       "    }\n",
       "\n",
       "    .dataframe thead th {\n",
       "        text-align: right;\n",
       "    }\n",
       "</style>\n",
       "<table border=\"1\" class=\"dataframe\">\n",
       "  <thead>\n",
       "    <tr style=\"text-align: right;\">\n",
       "      <th></th>\n",
       "      <th>like count</th>\n",
       "      <th>retweet count</th>\n",
       "      <th>quote count</th>\n",
       "      <th>reply count</th>\n",
       "      <th>sentiment</th>\n",
       "    </tr>\n",
       "    <tr>\n",
       "      <th>is Elon Musk</th>\n",
       "      <th></th>\n",
       "      <th></th>\n",
       "      <th></th>\n",
       "      <th></th>\n",
       "      <th></th>\n",
       "    </tr>\n",
       "  </thead>\n",
       "  <tbody>\n",
       "    <tr>\n",
       "      <th>0</th>\n",
       "      <td>45742.117535</td>\n",
       "      <td>4911.758943</td>\n",
       "      <td>881.419769</td>\n",
       "      <td>1805.963206</td>\n",
       "      <td>0.271725</td>\n",
       "    </tr>\n",
       "    <tr>\n",
       "      <th>1</th>\n",
       "      <td>247434.490832</td>\n",
       "      <td>21407.117066</td>\n",
       "      <td>4211.244006</td>\n",
       "      <td>18721.504937</td>\n",
       "      <td>0.325887</td>\n",
       "    </tr>\n",
       "  </tbody>\n",
       "</table>\n",
       "</div>"
      ],
      "text/plain": [
       "                 like count  retweet count  quote count   reply count  \\\n",
       "is Elon Musk                                                            \n",
       "0              45742.117535    4911.758943   881.419769   1805.963206   \n",
       "1             247434.490832   21407.117066  4211.244006  18721.504937   \n",
       "\n",
       "              sentiment  \n",
       "is Elon Musk             \n",
       "0              0.271725  \n",
       "1              0.325887  "
      ]
     },
     "execution_count": 4,
     "metadata": {},
     "output_type": "execute_result"
    }
   ],
   "source": [
    "numeric_columns = [\"like count\",\"retweet count\", 'quote count', 'reply count', 'sentiment']\n",
    "data_frame.groupby(by='is Elon Musk')[numeric_columns].mean()"
   ]
  },
  {
   "cell_type": "markdown",
   "metadata": {},
   "source": [
    "#### Mediana\n",
    "\n",
    "Porównując mediane wpisów Elona Muska do pozostałych użytkowników, można zauważyć iż w przypadku wpisów\n",
    "Elona Muska mediany są bardziej zbliżone do średnich niż w przypadku pozostałych użytkowników. \n",
    "Szczególnie widać to przy ilości cytowań. Takie zachowanie może wynikać z faktu, że Elon ma bardziej stałą grupę\n",
    "odbiorców, natomiast w przypadku innych reakcje mogą bardziej wynikać ze szczególnych zdarzeń.   \n"
   ]
  },
  {
   "cell_type": "code",
   "execution_count": 7,
   "metadata": {},
   "outputs": [
    {
     "data": {
      "text/html": [
       "<div>\n",
       "<style scoped>\n",
       "    .dataframe tbody tr th:only-of-type {\n",
       "        vertical-align: middle;\n",
       "    }\n",
       "\n",
       "    .dataframe tbody tr th {\n",
       "        vertical-align: top;\n",
       "    }\n",
       "\n",
       "    .dataframe thead th {\n",
       "        text-align: right;\n",
       "    }\n",
       "</style>\n",
       "<table border=\"1\" class=\"dataframe\">\n",
       "  <thead>\n",
       "    <tr style=\"text-align: right;\">\n",
       "      <th></th>\n",
       "      <th>like count</th>\n",
       "      <th>retweet count</th>\n",
       "      <th>quote count</th>\n",
       "      <th>reply count</th>\n",
       "      <th>sentiment</th>\n",
       "    </tr>\n",
       "    <tr>\n",
       "      <th>is Elon Musk</th>\n",
       "      <th></th>\n",
       "      <th></th>\n",
       "      <th></th>\n",
       "      <th></th>\n",
       "      <th></th>\n",
       "    </tr>\n",
       "  </thead>\n",
       "  <tbody>\n",
       "    <tr>\n",
       "      <th>False</th>\n",
       "      <td>5332.0</td>\n",
       "      <td>578.0</td>\n",
       "      <td>92.0</td>\n",
       "      <td>345.0</td>\n",
       "      <td>0.016667</td>\n",
       "    </tr>\n",
       "    <tr>\n",
       "      <th>True</th>\n",
       "      <td>158067.0</td>\n",
       "      <td>10785.0</td>\n",
       "      <td>1352.0</td>\n",
       "      <td>9635.0</td>\n",
       "      <td>0.000000</td>\n",
       "    </tr>\n",
       "  </tbody>\n",
       "</table>\n",
       "</div>"
      ],
      "text/plain": [
       "              like count  retweet count  quote count  reply count  sentiment\n",
       "is Elon Musk                                                                \n",
       "False             5332.0          578.0         92.0        345.0   0.016667\n",
       "True            158067.0        10785.0       1352.0       9635.0   0.000000"
      ]
     },
     "execution_count": 7,
     "metadata": {},
     "output_type": "execute_result"
    }
   ],
   "source": [
    "data_frame.groupby(by='is Elon Musk')[numeric_columns].median()"
   ]
  },
  {
   "cell_type": "markdown",
   "metadata": {},
   "source": [
    "#### Sentyment\n",
    "\n",
    "W obu przypadkach zarówno średniej jak i medianie wartości sentymentu wpisu są podobne. Wpisy neutralne. "
   ]
  },
  {
   "cell_type": "markdown",
   "metadata": {},
   "source": [
    "#### Ilość wpisów w zależności od pory dnia\n",
    "\n",
    "\n",
    "Sprawdzono ilość wpisów w zależności od godziny na przestrzeni doby.\n",
    "W celu przeanalizowania tej zależności utworzono histogram wpisów w zależności od godziny.\n",
    "Histogram został zamieszczony poniżej. Analizując histogram można zauważyć bardzo ciekawą zależność \n",
    "Elon Musk jest dużo bardziej aktywny od pozostałych użytkowników między 0 a 8. \n",
    "W pozostałych godzinach Elon jest mniej aktywny od pozostałych użytkowników.  \n"
   ]
  },
  {
   "cell_type": "code",
   "execution_count": 8,
   "metadata": {},
   "outputs": [
    {
     "data": {
      "image/png": "[encoded data removed]",
      "text/plain": [
       "<Figure size 1440x720 with 1 Axes>"
      ]
     },
     "metadata": {
      "needs_background": "light"
     },
     "output_type": "display_data"
    }
   ],
   "source": [
    "data_frame_elon = data_frame.loc[data_frame['is Elon Musk'] == True] \n",
    "data_frame_not_elon = data_frame.loc[data_frame['is Elon Musk'] == False] \n",
    "data_frame_not_elon_count_by_hour = data_frame_not_elon['created at'].groupby(data_frame_not_elon['created at'].dt.hour).count() / 10\n",
    "elon_data_count_by_hour = data_frame_elon['created at'].groupby(data_frame_elon['created at'].dt.hour).count()\n",
    "\n",
    "def fill_missing_hours_with_zero(data_count_by_hour_dict):\n",
    "    for i in range(24):\n",
    "        if i not in data_count_by_hour_dict:\n",
    "            data_count_by_hour_dict[i] = 0\n",
    "    \n",
    "    data_count_by_hour_list = list(dict(sorted(data_count_by_hour_dict.items())).values())\n",
    "    return np.array(data_count_by_hour_list).astype(float)\n",
    "\n",
    "data_count_by_hour = fill_missing_hours_with_zero(data_frame_not_elon_count_by_hour.to_dict())\n",
    "\n",
    "def plot_histogram_of_tweet_during_time(elon_data_count_by_hour, not_elon_data_count_by_hour, y_label, title):\n",
    "    bar_width = 0.4\n",
    "    hours = np.arange(24)\n",
    "    plt.figure(figsize=(20, 10))\n",
    "    plt.bar(hours - bar_width/2, elon_data_count_by_hour.values, width=bar_width, label='Elon')\n",
    "    plt.bar(hours + bar_width/2, not_elon_data_count_by_hour, width=0.4, label='Nie Elon')\n",
    "\n",
    "    plt.xticks(hours, hours)\n",
    "    plt.xlabel(\"Godzina\")\n",
    "    plt.ylabel(y_label)\n",
    "    plt.title(title)\n",
    "    plt.legend()\n",
    "    plt.show()\n",
    "\n",
    "plot_histogram_of_tweet_during_time(elon_data_count_by_hour, data_count_by_hour, 'Ilość tweetów', 'Histogram tweetów na przestrzeni doby')"
   ]
  },
  {
   "cell_type": "markdown",
   "metadata": {},
   "source": [
    "### Analiza sentymentu w ciągu dnia\n",
    "\n",
    "Analizując sentyment wpisów na przestrzeni doby. Można zaobserwować iż wpisy Elona Muska były wyjątkowe pozytywne \n",
    "o godzinie 10 oraz 12. W tylko w tych godzinach sentyment wpisów Elona Muska znacząco przewyższa średni sentyment\n",
    "pozostałych użytkowników.     "
   ]
  },
  {
   "cell_type": "code",
   "execution_count": 9,
   "metadata": {},
   "outputs": [
    {
     "data": {
      "image/png": "[encoded data removed]",
      "text/plain": [
       "<Figure size 1440x720 with 1 Axes>"
      ]
     },
     "metadata": {
      "needs_background": "light"
     },
     "output_type": "display_data"
    }
   ],
   "source": [
    "elon_sentiment = data_frame_elon.groupby(data_frame_elon['created at'].dt.hour).describe()['sentiment']['mean']\n",
    "not_elon_sentiment = data_frame_not_elon.groupby(data_frame_not_elon['created at'].dt.hour).describe()['sentiment']['mean']\n",
    "\n",
    "data_count_by_hour = fill_missing_hours_with_zero(not_elon_sentiment.to_dict())\n",
    "plot_histogram_of_tweet_during_time(elon_sentiment, data_count_by_hour, 'Średni godzinowy sentyment tweetu', 'Histogram średniego sentymentu na przestrzeni doby')\n"
   ]
  },
  {
   "cell_type": "markdown",
   "metadata": {},
   "source": [
    "### Analiza danych nienumerycznych\n",
    "\n",
    "#### Źródło wpisu\n",
    "Analizując zmienne nienumeryczne można zaobserwować ciekawe zależności. Rozważając źródło dodania wpisu można zauważyć, \n",
    "że Elon Musk zawsze dodaje wpisy z aplikacji mobilnej na IPhone. Pozostali użytkownicy dodawali wpisy z różnych źródeł."
   ]
  },
  {
   "cell_type": "code",
   "execution_count": 10,
   "metadata": {},
   "outputs": [
    {
     "data": {
      "text/plain": [
       "is Elon Musk  source                  \n",
       "False         Twitter Web App             1868\n",
       "              Twitter for iPhone          1805\n",
       "              Twitter Media Studio         944\n",
       "              SocialFlow                   808\n",
       "              Sprout Social                649\n",
       "              Sprinklr                     588\n",
       "              Twitter Web Client           160\n",
       "              swonkie                       12\n",
       "              Twitter for Advertisers.       4\n",
       "              TweetDeck                      3\n",
       "              Twitter Ads                    2\n",
       "              Arrow.                         1\n",
       "              Instagram                      1\n",
       "              Periscope                      1\n",
       "              Twitter for  iPhone            1\n",
       "              Twitter for Android            1\n",
       "              Twitter for Mac                1\n",
       "True          Twitter for iPhone           709\n",
       "Name: source, dtype: int64"
      ]
     },
     "execution_count": 10,
     "metadata": {},
     "output_type": "execute_result"
    }
   ],
   "source": [
    "data_frame.groupby(by='is Elon Musk')['source'].value_counts()"
   ]
  },
  {
   "cell_type": "markdown",
   "metadata": {},
   "source": [
    "##### Język wpisu\n",
    "\n",
    "Analizując języki wpisu, widać iż w obu przypadkach dominuje język angielski. Wpisy Elona Muska w zauważalnej części,\n",
    "nie mają językowej zawartości(wpis jest pusty), takie wpisy to około 10% całej aktywności. Podobne zjawisko nie zachodzi\n",
    "w przypadku pozostałych użytkowników. "
   ]
  },
  {
   "cell_type": "code",
   "execution_count": 11,
   "metadata": {},
   "outputs": [
    {
     "data": {
      "text/plain": [
       "is Elon Musk  lang\n",
       "False         en      6114\n",
       "              und      229\n",
       "              pt       123\n",
       "              art      101\n",
       "              zxx       89\n",
       "              it        63\n",
       "              es        54\n",
       "              qst       14\n",
       "              fr        13\n",
       "              qme       13\n",
       "              tl         9\n",
       "              de         4\n",
       "              et         4\n",
       "              cy         3\n",
       "              qht        3\n",
       "              in         2\n",
       "              ja         2\n",
       "              nl         2\n",
       "              tr         2\n",
       "              ca         1\n",
       "              ht         1\n",
       "              lt         1\n",
       "              qam        1\n",
       "              ro         1\n",
       "True          en       605\n",
       "              zxx       65\n",
       "              und       10\n",
       "              art        4\n",
       "              fr         4\n",
       "              pt         4\n",
       "              es         3\n",
       "              qst        3\n",
       "              da         2\n",
       "              de         2\n",
       "              el         1\n",
       "              et         1\n",
       "              ht         1\n",
       "              in         1\n",
       "              it         1\n",
       "              qht        1\n",
       "              tl         1\n",
       "Name: lang, dtype: int64"
      ]
     },
     "execution_count": 11,
     "metadata": {},
     "output_type": "execute_result"
    }
   ],
   "source": [
    "data_frame.groupby(by='is Elon Musk')['lang'].value_counts()"
   ]
  },
  {
   "cell_type": "markdown",
   "metadata": {},
   "source": [
    "### Reszta potencjalnych analiz"
   ]
  },
  {
   "cell_type": "code",
   "execution_count": 12,
   "metadata": {},
   "outputs": [],
   "source": [
    "data_frame_annotations = get_data(\"user_data/annotations*.csv\")\n",
    "data_frame_annotations[\"created at\"] = pd.to_datetime(data_frame[\"created at\"])\n",
    "\n",
    "data_frame_annotations_elon = data_frame_annotations.loc[data_frame_annotations['is Elon Musk'] == True] \n",
    "data_frame_annotations_not_elon = data_frame_annotations.loc[data_frame_annotations['is Elon Musk'] == False] "
   ]
  },
  {
   "cell_type": "code",
   "execution_count": 13,
   "metadata": {},
   "outputs": [
    {
     "data": {
      "text/plain": [
       "Business Taxonomy                 384\n",
       "Person                            242\n",
       "Entities [Entity Service]          21\n",
       "Unified Twitter Taxonomy           14\n",
       "Video Game                         10\n",
       "Sports Event                        7\n",
       "Events [Entity Service]             6\n",
       "Brand                               5\n",
       "TV Shows                            4\n",
       "Brand Vertical                      4\n",
       "Interests and Hobbies               4\n",
       "Interests and Hobbies Category      2\n",
       "Cities                              1\n",
       "Interests and Hobbies Vertical      1\n",
       "Podcast                             1\n",
       "Multimedia Franchise                1\n",
       "Movie                               1\n",
       "Name: context annotations domain 0, dtype: int64"
      ]
     },
     "execution_count": 13,
     "metadata": {},
     "output_type": "execute_result"
    }
   ],
   "source": [
    "data_frame_annotations_elon['context annotations domain 0'].value_counts()"
   ]
  },
  {
   "cell_type": "code",
   "execution_count": 14,
   "metadata": {},
   "outputs": [
    {
     "data": {
      "text/plain": [
       "Financial Services Business             369\n",
       "Elon Musk                               227\n",
       "Aerospace                                15\n",
       "Automotive, Aircraft & Boat Business     13\n",
       "Donald Trump                              9\n",
       "Starlink: Battle for Atlas                9\n",
       "2022 FIFA World Cup                       7\n",
       "SpaceX                                    4\n",
       "Automotive                                3\n",
       "Halloween                                 3\n",
       "Technology                                2\n",
       "Science                                   2\n",
       "Climate change                            2\n",
       "Politics                                  2\n",
       "Das Boot                                  2\n",
       "Thanksgiving Day                          2\n",
       "Entertainment & Leisure Business          2\n",
       "CPG                                       2\n",
       "Music                                     1\n",
       "Entertainment                             1\n",
       "Cinematography                            1\n",
       "Pope Francis                              1\n",
       "Dogecoin cryptocurrency                   1\n",
       "Father's Day                              1\n",
       "TikTok                                    1\n",
       "Elden Ring                                1\n",
       "Top Gun: Maverick                         1\n",
       "Social media                              1\n",
       "Space                                     1\n",
       "Alexandria Ocasio-Cortez                  1\n",
       "GPS and maps                              1\n",
       "Disney characters                         1\n",
       "Formula One Racing                        1\n",
       "Family and life stages                    1\n",
       "Inflation                                 1\n",
       "Global security & terrorism               1\n",
       "Kyrsten Sinema                            1\n",
       "Julian Assange                            1\n",
       "Hunter Biden                              1\n",
       "Services                                  1\n",
       "Parag Agrawal                             1\n",
       "Hospitality                               1\n",
       "San Antonio                               1\n",
       "Commodities                               1\n",
       "Stanford University                       1\n",
       "Podcasts                                  1\n",
       "Philosophy                                1\n",
       "Vikings                                   1\n",
       "Television                                1\n",
       "Suicide Squad                             1\n",
       "Mergers & Acquisitions                    1\n",
       "Name: context annotations entity 0, dtype: int64"
      ]
     },
     "execution_count": 14,
     "metadata": {},
     "output_type": "execute_result"
    }
   ],
   "source": [
    "data_frame_annotations_elon['context annotations entity 0'].value_counts()"
   ]
  },
  {
   "cell_type": "code",
   "execution_count": 15,
   "metadata": {},
   "outputs": [
    {
     "data": {
      "text/plain": [
       "Person                            3039\n",
       "Unified Twitter Taxonomy           810\n",
       "Entities [Entity Service]          580\n",
       "TV Genres                          568\n",
       "Business Taxonomy                  315\n",
       "TV Shows                           308\n",
       "Events [Entity Service]            265\n",
       "Ongoing News Story                 228\n",
       "Sports Event                       148\n",
       "News Vertical                      102\n",
       "Brand Vertical                      79\n",
       "Sports Team                         73\n",
       "Interests and Hobbies Vertical      54\n",
       "Sports League                       50\n",
       "Interests and Hobbies               45\n",
       "Political Body                      39\n",
       "States                              36\n",
       "Brand                               26\n",
       "Cities                              14\n",
       "Interests and Hobbies Category      11\n",
       "Sport                                8\n",
       "Place                                7\n",
       "Reoccurring Trends                   6\n",
       "Product                              4\n",
       "Music Album                          3\n",
       "Movie                                3\n",
       "Video Game                           3\n",
       "Movie Genre                          1\n",
       "Podcast                              1\n",
       "Video Game Hardware                  1\n",
       "Digital Creator                      1\n",
       "Multimedia Franchise                 1\n",
       "Technology                           1\n",
       "Name: context annotations domain 0, dtype: int64"
      ]
     },
     "execution_count": 15,
     "metadata": {},
     "output_type": "execute_result"
    }
   ],
   "source": [
    "\n",
    "data_frame_annotations_not_elon['context annotations domain 0'].value_counts()"
   ]
  },
  {
   "cell_type": "code",
   "execution_count": 16,
   "metadata": {},
   "outputs": [
    {
     "data": {
      "text/plain": [
       "Cristiano Ronaldo        613\n",
       "Joe Biden                581\n",
       "Talk shows               566\n",
       "Social media             546\n",
       "Kim Kardashian           525\n",
       "                        ... \n",
       "Bill Cosby                 1\n",
       "Vaping                     1\n",
       "Service/Supply - Auto      1\n",
       "Gustavo Petro              1\n",
       "Liga BBVA                  1\n",
       "Name: context annotations entity 0, Length: 709, dtype: int64"
      ]
     },
     "execution_count": 16,
     "metadata": {},
     "output_type": "execute_result"
    }
   ],
   "source": [
    "data_frame_annotations_not_elon['context annotations entity 0'].value_counts()"
   ]
  },
  {
   "cell_type": "code",
   "execution_count": 17,
   "metadata": {},
   "outputs": [
    {
     "data": {
      "text/plain": [
       "Kim Kardashian                 525\n",
       "Services                       511\n",
       "Barack Obama                   369\n",
       "Bill Gates                     264\n",
       "COVID-19                       199\n",
       "Publisher & News Business      150\n",
       "Music                           93\n",
       "Financial Services Business     92\n",
       "The Kardashians                 86\n",
       "Donald Trump                    85\n",
       "Real Madrid CF                  72\n",
       "Name: context annotations entity 0, dtype: int64"
      ]
     },
     "execution_count": 17,
     "metadata": {},
     "output_type": "execute_result"
    }
   ],
   "source": [
    "data_frame_annotations_not_elon['context annotations entity 0'].value_counts()[4:15]"
   ]
  },
  {
   "cell_type": "code",
   "execution_count": 18,
   "metadata": {},
   "outputs": [
    {
     "data": {
      "text/plain": [
       "US Political News        52\n",
       "Climate change           49\n",
       "EFL Championship         49\n",
       "Entertainment            48\n",
       "Politics                 43\n",
       "                         ..\n",
       "Bill Cosby                1\n",
       "Vaping                    1\n",
       "Service/Supply - Auto     1\n",
       "Gustavo Petro             1\n",
       "Liga BBVA                 1\n",
       "Name: context annotations entity 0, Length: 694, dtype: int64"
      ]
     },
     "execution_count": 18,
     "metadata": {},
     "output_type": "execute_result"
    }
   ],
   "source": [
    "data_frame_annotations_not_elon['context annotations entity 0'].value_counts()[15:]"
   ]
  },
  {
   "cell_type": "code",
   "execution_count": 19,
   "metadata": {},
   "outputs": [
    {
     "name": "stderr",
     "output_type": "stream",
     "text": [
      "/usr/lib/python3/dist-packages/matplotlib/cbook/__init__.py:1426: VisibleDeprecationWarning: Creating an ndarray from ragged nested sequences (which is a list-or-tuple of lists-or-tuples-or ndarrays with different lengths or shapes) is deprecated. If you meant to do this, you must specify 'dtype=object' when creating the ndarray.\n",
      "  X = np.atleast_1d(X.T if isinstance(X, np.ndarray) else np.asarray(X))\n",
      "/usr/lib/python3/dist-packages/matplotlib/cbook/__init__.py:1426: VisibleDeprecationWarning: Creating an ndarray from ragged nested sequences (which is a list-or-tuple of lists-or-tuples-or ndarrays with different lengths or shapes) is deprecated. If you meant to do this, you must specify 'dtype=object' when creating the ndarray.\n",
      "  X = np.atleast_1d(X.T if isinstance(X, np.ndarray) else np.asarray(X))\n",
      "/usr/lib/python3/dist-packages/matplotlib/cbook/__init__.py:1426: VisibleDeprecationWarning: Creating an ndarray from ragged nested sequences (which is a list-or-tuple of lists-or-tuples-or ndarrays with different lengths or shapes) is deprecated. If you meant to do this, you must specify 'dtype=object' when creating the ndarray.\n",
      "  X = np.atleast_1d(X.T if isinstance(X, np.ndarray) else np.asarray(X))\n",
      "/usr/lib/python3/dist-packages/matplotlib/cbook/__init__.py:1426: VisibleDeprecationWarning: Creating an ndarray from ragged nested sequences (which is a list-or-tuple of lists-or-tuples-or ndarrays with different lengths or shapes) is deprecated. If you meant to do this, you must specify 'dtype=object' when creating the ndarray.\n",
      "  X = np.atleast_1d(X.T if isinstance(X, np.ndarray) else np.asarray(X))\n"
     ]
    },
    {
     "data": {
      "text/plain": [
       "<matplotlib.axes._subplots.AxesSubplot at 0x7f9c01076b80>"
      ]
     },
     "execution_count": 19,
     "metadata": {},
     "output_type": "execute_result"
    },
    {
     "data": {
      "image/png": "[encoded data removed]",
      "text/plain": [
       "<Figure size 2160x720 with 1 Axes>"
      ]
     },
     "metadata": {
      "needs_background": "light"
     },
     "output_type": "display_data"
    }
   ],
   "source": [
    "data_frame_not_elon.groupby(data_frame_not_elon['created at'].dt.hour).boxplot(column='sentiment', subplots=False, figsize=(30,10))\n",
    "data_frame_elon.groupby(data_frame_elon['created at'].dt.hour).boxplot(column='sentiment', subplots=False, figsize=(30,10))\n",
    "data_frame_not_elon.groupby(data_frame_not_elon['created at'].dt.hour).boxplot(column='like count', subplots=False, figsize=(30,10))\n",
    "data_frame_elon.groupby(data_frame_elon['created at'].dt.hour).boxplot(column='like count', subplots=False, figsize=(30,10))"
   ]
  },
  {
   "cell_type": "code",
   "execution_count": 20,
   "metadata": {},
   "outputs": [
    {
     "data": {
      "image/png": "[encoded data removed]",
      "text/plain": [
       "<Figure size 936x720 with 4 Axes>"
      ]
     },
     "metadata": {
      "needs_background": "light"
     },
     "output_type": "display_data"
    }
   ],
   "source": [
    "ylabels = [\"like count\",\"retweet count\", 'quote count', 'reply count']\n",
    "\n",
    "def plot_charts(data_frame, ylabels):\n",
    "    fig = plt.figure(figsize=(13,10))\n",
    "    fig.subplots_adjust(hspace=0.15,wspace=0.01)\n",
    "\n",
    "    n_row = len(ylabels)\n",
    "    n_col = 1\n",
    "    for count, ylabel in enumerate(ylabels):\n",
    "        ax = fig.add_subplot(n_row, n_col, count+1)\n",
    "        ax.plot(data_frame[\"created at\"].to_numpy(dtype='datetime64'), data_frame[ylabel].to_numpy())\n",
    "        ax.set_ylabel(ylabel)\n",
    "\n",
    "plot_charts(data_frame_elon, ylabels)"
   ]
  }
 ],
 "metadata": {
  "kernelspec": {
   "display_name": "Python 3.8.10 64-bit",
   "language": "python",
   "name": "python3"
  },
  "language_info": {
   "codemirror_mode": {
    "name": "ipython",
    "version": 3
   },
   "file_extension": ".py",
   "mimetype": "text/x-python",
   "name": "python",
   "nbconvert_exporter": "python",
   "pygments_lexer": "ipython3",
   "version": "3.8.10"
  },
  "orig_nbformat": 4,
  "vscode": {
   "interpreter": {
    "hash": "31f2aee4e71d21fbe5cf8b01ff0e069b9275f58929596ceb00d14d90e3e16cd6"
   }
  }
 },
 "nbformat": 4,
 "nbformat_minor": 2
}
